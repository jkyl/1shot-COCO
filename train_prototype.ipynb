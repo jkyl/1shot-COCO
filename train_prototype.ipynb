{
 "cells": [
  {
   "cell_type": "code",
   "execution_count": null,
   "metadata": {},
   "outputs": [
    {
     "name": "stdout",
     "output_type": "stream",
     "text": [
      "Populating the interactive namespace from numpy and matplotlib\n"
     ]
    }
   ],
   "source": [
    "%pylab inline\n",
    "from main import *\n",
    "m = TextGen(224, code_dim=512, rnn='LSTM')"
   ]
  },
  {
   "cell_type": "code",
   "execution_count": null,
   "metadata": {},
   "outputs": [
    {
     "name": "stdout",
     "output_type": "stream",
     "text": [
      "creating batch reader\n",
      "creating staging area\n",
      "creating optimizer\n",
      "creating summary\n",
      "starting threads\n",
      "initializing variables\n",
      "loading cnn weights from utils/inception_v3_weights_tf_dim_ordering_tf_kernels_notop.h5\n",
      "finalizing graph\n",
      "epoch: 1\n"
     ]
    },
    {
     "name": "stderr",
     "output_type": "stream",
     "text": [
      " 30%|███       | 3014/10000 [12:13<28:14,  4.12it/s]"
     ]
    }
   ],
   "source": [
    "m.train(\n",
    "    '/home/paperspace/data/ms_coco/preproc_vocab-9509_threshold-5_length-20/val_224_crop.tfrecord',\n",
    "    '/home/paperspace/data/ms_coco/preproc_vocab-9509_threshold-5_length-20/val_224_crop.tfrecord',\n",
    "    '/home/paperspace/training/activations/elu_lin_concat_lin_elu_clipgrad-10.0',\n",
    "    lr_init=4e-4,\n",
    "    lambda_Lg=0,\n",
    "    clip_gradients=10.0,\n",
    "    random_captions=False,\n",
    "    decay_every=200000,\n",
    "    batch_size=64,\n",
    "    validate_every=100,\n",
    "    save_every=inf,\n",
    "    epoch_size=10000,\n",
    "    n_read_threads=6,\n",
    "    n_stage_threads=6,\n",
    "    capacity=8,\n",
    "    all_trainable=False,\n",
    ")"
   ]
  },
  {
   "cell_type": "code",
   "execution_count": null,
   "metadata": {
    "collapsed": true
   },
   "outputs": [],
   "source": [
    "def sigmoid(x):\n",
    "    return 1 / (1 + np.exp(-x))\n",
    "plot(sigmoid(v[0, :5]).T)"
   ]
  },
  {
   "cell_type": "code",
   "execution_count": null,
   "metadata": {
    "collapsed": true
   },
   "outputs": [],
   "source": [
    "rm -r /home/paperspace/training/activations/elu_lin_concat_lin_elu_GP-l2norm/"
   ]
  },
  {
   "cell_type": "code",
   "execution_count": null,
   "metadata": {
    "collapsed": true
   },
   "outputs": [],
   "source": [
    "import json\n",
    "d = {int(k): v for k, v in json.loads(open(\n",
    "    '/home/paperspace/data/ms_coco/preproc_vocab-9509_threshold-5_length-20/inds_to_words.json')\\\n",
    "                                      .read()).items()} \n",
    "for b in batch:\n",
    "    inds = argmax(b, axis=-1)\n",
    "    print(' '.join(d[i] for i in inds))"
   ]
  },
  {
   "cell_type": "code",
   "execution_count": 1,
   "metadata": {
    "collapsed": true
   },
   "outputs": [],
   "source": [
    "rm -r /home/paperspace/training/activations/elu_lin_concat_lin_elu_clipgrad-10.0"
   ]
  },
  {
   "cell_type": "code",
   "execution_count": null,
   "metadata": {},
   "outputs": [],
   "source": [
    "m.rnn.save_weights('/home/paperspace/training/seq2seq/exp4/rnn-weights-260k.h5')"
   ]
  },
  {
   "cell_type": "code",
   "execution_count": null,
   "metadata": {},
   "outputs": [],
   "source": [
    "from utils.models import *\n",
    "m = spatial_attention_rnn((7, 7, 2048), 16, 512, 9000)\n",
    "m.summary()"
   ]
  },
  {
   "cell_type": "code",
   "execution_count": null,
   "metadata": {},
   "outputs": [],
   "source": [
    " 71319552 / 33556480."
   ]
  },
  {
   "cell_type": "code",
   "execution_count": null,
   "metadata": {},
   "outputs": [],
   "source": [
    "m.rnn.summary()"
   ]
  },
  {
   "cell_type": "code",
   "execution_count": null,
   "metadata": {
    "collapsed": true
   },
   "outputs": [],
   "source": []
  }
 ],
 "metadata": {
  "kernelspec": {
   "display_name": "Python 2",
   "language": "python",
   "name": "python2"
  },
  "language_info": {
   "codemirror_mode": {
    "name": "ipython",
    "version": 2
   },
   "file_extension": ".py",
   "mimetype": "text/x-python",
   "name": "python",
   "nbconvert_exporter": "python",
   "pygments_lexer": "ipython2",
   "version": "2.7.6"
  }
 },
 "nbformat": 4,
 "nbformat_minor": 2
}
