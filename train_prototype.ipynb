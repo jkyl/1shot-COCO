{
 "cells": [
  {
   "cell_type": "code",
   "execution_count": 2,
   "metadata": {},
   "outputs": [
    {
     "name": "stdout",
     "output_type": "stream",
     "text": [
      "Populating the interactive namespace from numpy and matplotlib\n"
     ]
    }
   ],
   "source": [
    "%pylab inline\n",
    "from main import *\n",
    "m = TextGen(224, code_dim=512, rnn='LSTM', activations=['linear', 'linear'])"
   ]
  },
  {
   "cell_type": "code",
   "execution_count": null,
   "metadata": {},
   "outputs": [
    {
     "name": "stdout",
     "output_type": "stream",
     "text": [
      "creating batch reader\n",
      "creating staging area\n",
      "creating optimizer\n",
      "creating summary\n",
      "starting threads\n",
      "initializing variables\n",
      "saving weights\n",
      "loading cnn weights from /home/paperspace/data/pretrained/inception_v3_weights_tf_dim_ordering_tf_kernels_notop.h5\n",
      "finalizing graph\n",
      "epoch: 1\n"
     ]
    },
    {
     "name": "stderr",
     "output_type": "stream",
     "text": [
      " 23%|██▎       | 2285/10000 [24:26<1:21:55,  1.57it/s]"
     ]
    }
   ],
   "source": [
    "m.train(\n",
    "    '/home/paperspace/data/ms_coco/preproc_vocab-9509_threshold-5_length-20/test_224_crop.tfrecord',\n",
    "    '/home/paperspace/data/ms_coco/preproc_vocab-9509_threshold-5_length-20/test_224_crop.tfrecord',\n",
    "    '/home/paperspace/training/overfit/exp4_longrun_alltrainable',\n",
    "    lr_init=4e-4,\n",
    "    clip_gradients=5.0,\n",
    "    decay_every=100000,\n",
    "    batch_size=64,\n",
    "    lambda_Lg=0, \n",
    "    lambda_L2=0,\n",
    "    validate_every=100,\n",
    "    save_every=20000,\n",
    "    epoch_size=10000,\n",
    "    n_read_threads=6,\n",
    "    n_stage_threads=6,\n",
    "    capacity=8,\n",
    "    all_trainable=True,\n",
    ")"
   ]
  },
  {
   "cell_type": "code",
   "execution_count": null,
   "metadata": {
    "collapsed": true
   },
   "outputs": [],
   "source": []
  }
 ],
 "metadata": {
  "kernelspec": {
   "display_name": "Python 2",
   "language": "python",
   "name": "python2"
  },
  "language_info": {
   "codemirror_mode": {
    "name": "ipython",
    "version": 2
   },
   "file_extension": ".py",
   "mimetype": "text/x-python",
   "name": "python",
   "nbconvert_exporter": "python",
   "pygments_lexer": "ipython2",
   "version": "2.7.6"
  }
 },
 "nbformat": 4,
 "nbformat_minor": 2
}
