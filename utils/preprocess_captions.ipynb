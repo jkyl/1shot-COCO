{
 "cells": [
  {
   "cell_type": "markdown",
   "metadata": {},
   "source": [
    "### Convert captions to lists of token indices"
   ]
  },
  {
   "cell_type": "code",
   "execution_count": 1,
   "metadata": {
    "scrolled": false
   },
   "outputs": [
    {
     "name": "stdout",
     "output_type": "stream",
     "text": [
      "Populating the interactive namespace from numpy and matplotlib\n",
      "filtering non-alphabetic characters\n"
     ]
    },
    {
     "name": "stderr",
     "output_type": "stream",
     "text": [
      "100%|██████████| 400962/400962 [00:01<00:00, 254081.69it/s]\n",
      "100%|██████████| 198162/198162 [00:00<00:00, 252139.20it/s]\n"
     ]
    },
    {
     "name": "stdout",
     "output_type": "stream",
     "text": [
      "splitting on spaces and hashing\n"
     ]
    },
    {
     "name": "stderr",
     "output_type": "stream",
     "text": [
      "100%|██████████| 598454/598454 [00:02<00:00, 215631.21it/s]\n"
     ]
    },
    {
     "name": "stdout",
     "output_type": "stream",
     "text": [
      "filtering stopwords\n",
      "converting captions to indices\n"
     ]
    },
    {
     "name": "stderr",
     "output_type": "stream",
     "text": [
      "100%|██████████| 400454/400454 [00:05<00:00, 75159.10it/s]\n",
      "100%|██████████| 198000/198000 [00:02<00:00, 90674.04it/s] \n"
     ]
    }
   ],
   "source": [
    "import os\n",
    "import re\n",
    "import tqdm\n",
    "import json\n",
    "import time\n",
    "%pylab inline\n",
    "\n",
    "THRESHOLD = 5\n",
    "\n",
    "j_train = json.loads(open('/home/paperspace/data/ms_coco/captions_train2014.json').read())\n",
    "j_val = json.loads(open('/home/paperspace/data/ms_coco/captions_val2014.json').read())\n",
    "train = {d['caption']: d['image_id'] for d in j_train['annotations']}\n",
    "val = {d['caption']: d['image_id'] for d in j_val['annotations']}\n",
    "\n",
    "print('filtering non-alphabetic characters'); time.sleep(.2)\n",
    "for d in (train, val):\n",
    "    for k in tqdm.tqdm(d.keys()):\n",
    "        f = re.sub('[^a-z \\h]', ' ', k.lower())\n",
    "        d[f] = d.pop(k)\n",
    "\n",
    "print('splitting on spaces and hashing'); time.sleep(.2)\n",
    "total = train.keys() + val.keys()\n",
    "instances = {}\n",
    "for caption in tqdm.tqdm(total):\n",
    "    for w in caption.split(' '):\n",
    "        if w != '':\n",
    "            try:\n",
    "                instances[w] += 1\n",
    "            except:\n",
    "                instances[w] = 1\n",
    "\n",
    "print('filtering stopwords')\n",
    "words = sorted(instances.keys())\n",
    "words_set = set(words)\n",
    "#nltk_stopwords = set(w for w in open('stopwords.txt').read().split('\\n') if w != '')\n",
    "go_words = set([w for (w, c) in instances.items() if c > THRESHOLD])\n",
    "stop_words = words_set - go_words\n",
    "\n",
    "words_to_inds = dict(zip(sorted(list(go_words)), range(len(go_words))))\n",
    "inds_to_words = dict(zip(range(len(go_words)), sorted(list(go_words))))\n",
    "\n",
    "words_to_inds['UNKNOWN'] = len(go_words)\n",
    "inds_to_words[len(go_words)] = 'UNKNOWN'\n",
    "\n",
    "\n",
    "print('converting captions to indices'); time.sleep(.2)\n",
    "for d in (train, val):\n",
    "    for k in tqdm.tqdm(d.keys()):\n",
    "        v = d.pop(k)\n",
    "        split = k.split(' ')\n",
    "        split_caption = []\n",
    "        for w in split:\n",
    "            if w != '':\n",
    "                if w in stop_words:\n",
    "                    w = 'UNKNOWN'\n",
    "                split_caption.append(w)\n",
    "                \n",
    "        indices = [words_to_inds[w] for w in split_caption]\n",
    "        try:\n",
    "            d[v].append(indices)\n",
    "        except:\n",
    "            d[v] = []\n",
    "            d[v].append(indices)"
   ]
  },
  {
   "cell_type": "markdown",
   "metadata": {},
   "source": [
    "### Find an appropriate maximum caption length"
   ]
  },
  {
   "cell_type": "code",
   "execution_count": 2,
   "metadata": {},
   "outputs": [
    {
     "name": "stdout",
     "output_type": "stream",
     "text": [
      "max length: 50\n",
      "mean length: 10.5069980316\n",
      "median length: 10.0\n",
      "standard deviation: 2.42455091082\n",
      "percent of total captions with greater than 20 words: 0.62%\n",
      "\n",
      "two men holding tennis rackets up in a hand on either side of a man smiling hugging a tennis racket to chest by tennis net on tennis course with many light green tennis balls in air in front of them and two balls on ground and all play sign behind\n"
     ]
    },
    {
     "data": {
      "image/png": "[encoded data removed]",
      "text/plain": [
       "<matplotlib.figure.Figure at 0x7fdee8490fd0>"
      ]
     },
     "metadata": {},
     "output_type": "display_data"
    }
   ],
   "source": [
    "target_length = 20\n",
    "\n",
    "maxlen = 0\n",
    "total = []\n",
    "for d in (train, val):\n",
    "    for k, v in d.items():\n",
    "        for i, c in enumerate(v):\n",
    "            size = len(c)\n",
    "            total.append(size)\n",
    "            if size > maxlen:\n",
    "                maxlen = size\n",
    "                max_id = k\n",
    "                max_i = i\n",
    "                max_d = d\n",
    "                \n",
    "total = array(total)\n",
    "total.sort()\n",
    "print('max length: '+str(maxlen)) \n",
    "print('mean length: '+str(total.mean()))\n",
    "print('median length: '+str(median(total)))\n",
    "print('standard deviation: '+str(total.std()))\n",
    "print('percent of total captions with greater than 20 words: {:.2f}%'\\\n",
    "      .format(100 * (total > target_length).sum() / float(total.size)))\n",
    "plot(total, label='word length')\n",
    "plot(arange(total.size), target_length*ones(total.size), label='length='+str(target_length))\n",
    "legend(loc='best')\n",
    "grid(which='both')\n",
    "print('\\n' + ' '.join([inds_to_words[i] for i in max_d[max_id][max_i]]))"
   ]
  },
  {
   "cell_type": "markdown",
   "metadata": {},
   "source": [
    "### Truncate captions, concat SOS/EOS tokens, and minus-one pad"
   ]
  },
  {
   "cell_type": "code",
   "execution_count": 3,
   "metadata": {
    "collapsed": true
   },
   "outputs": [],
   "source": [
    "n = len(words_to_inds) + 1\n",
    "words_to_inds['SOS'] = n-1\n",
    "words_to_inds['EOS'] = n\n",
    "inds_to_words[n-1] = 'SOS'\n",
    "inds_to_words[n] = 'EOS'\n",
    "\n",
    "for d in (train, val):\n",
    "    for k, v in d.items():\n",
    "        n_captions = len(v)\n",
    "        if n_captions < 7:\n",
    "            d[k] += [[]]*(7-n_captions)\n",
    "        for i, c in enumerate(d[k]):\n",
    "            v[i] = c[:target_length-2]\n",
    "            v[i] = [n-1] + v[i] + [n]\n",
    "            if len(v[i]) < target_length:\n",
    "                v[i] += [-1]*(target_length-len(v[i]))"
   ]
  },
  {
   "cell_type": "markdown",
   "metadata": {},
   "source": [
    "### Save"
   ]
  },
  {
   "cell_type": "code",
   "execution_count": 4,
   "metadata": {
    "collapsed": true
   },
   "outputs": [],
   "source": [
    "output_dir = '/home/paperspace/data/ms_coco/SOS_preproc_vocab-{}_threshold-{}_length-{}'\\\n",
    "             .format(len(words_to_inds), THRESHOLD, target_length)\n",
    "if not os.path.exists(output_dir):\n",
    "    os.makedirs(output_dir)\n",
    "    \n",
    "with open(os.path.join(output_dir, 'train_captions.json'), 'w') as outfile:\n",
    "    json.dump(train, outfile)\n",
    "with open(os.path.join(output_dir, 'val_captions.json'), 'w') as outfile:\n",
    "    json.dump(val, outfile)\n",
    "with open(os.path.join(output_dir, 'words_to_inds.json'), 'w') as outfile:\n",
    "    json.dump(words_to_inds, outfile)\n",
    "with open(os.path.join(output_dir, 'inds_to_words.json'), 'w') as outfile:\n",
    "    json.dump(inds_to_words, outfile)"
   ]
  },
  {
   "cell_type": "code",
   "execution_count": null,
   "metadata": {},
   "outputs": [
    {
     "name": "stdout",
     "output_type": "stream",
     "text": [
      "found 82783 images\n",
      "made coord\n",
      "Tensor(\"Shape:0\", shape=(3,), dtype=int32, device=/device:CPU:0)\n",
      "got img tensor\n",
      "got captions\n",
      "got classes\n",
      "starting\n"
     ]
    },
    {
     "name": "stderr",
     "output_type": "stream",
     "text": [
      " 90%|████████▉ | 74453/82783 [19:12<02:00, 68.89it/s]"
     ]
    }
   ],
   "source": [
    "from serialize_data import main\n",
    "main(\n",
    "    '/home/paperspace/data/ms_coco/train2014/',\n",
    "    '/home/paperspace/data/ms_coco/SOS_preproc_vocab-9413_threshold-5_length-20/train_captions.json',\n",
    "    '/home/paperspace/data/ms_coco/instances_train2014.json',\n",
    "    '/home/paperspace/data/ms_coco/SOS_preproc_vocab-9413_threshold-5_length-20/train_crop_299_fullshot.tfrecord',\n",
    "    lowshot_value=None,\n",
    "    truncate=False,\n",
    "    img_size=299, \n",
    "    center_crop=True\n",
    ")"
   ]
  },
  {
   "cell_type": "code",
   "execution_count": null,
   "metadata": {
    "collapsed": true
   },
   "outputs": [],
   "source": []
  }
 ],
 "metadata": {
  "kernelspec": {
   "display_name": "Python 2",
   "language": "python",
   "name": "python2"
  },
  "language_info": {
   "codemirror_mode": {
    "name": "ipython",
    "version": 2
   },
   "file_extension": ".py",
   "mimetype": "text/x-python",
   "name": "python",
   "nbconvert_exporter": "python",
   "pygments_lexer": "ipython2",
   "version": "2.7.6"
  }
 },
 "nbformat": 4,
 "nbformat_minor": 2
}
