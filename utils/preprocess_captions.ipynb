{
 "cells": [
  {
   "cell_type": "markdown",
   "metadata": {},
   "source": [
    "### Convert captions to lists of token indices"
   ]
  },
  {
   "cell_type": "code",
   "execution_count": 1,
   "metadata": {},
   "outputs": [
    {
     "name": "stdout",
     "output_type": "stream",
     "text": [
      "Populating the interactive namespace from numpy and matplotlib\n",
      "filtering non-alphabetic characters\n"
     ]
    },
    {
     "name": "stderr",
     "output_type": "stream",
     "text": [
      "100%|██████████| 400962/400962 [00:01<00:00, 291772.80it/s]\n",
      "100%|██████████| 198162/198162 [00:00<00:00, 296184.57it/s]\n",
      "  0%|          | 0/597442 [00:00<?, ?it/s]"
     ]
    },
    {
     "name": "stdout",
     "output_type": "stream",
     "text": [
      "splitting on spaces and hashing\n"
     ]
    },
    {
     "name": "stderr",
     "output_type": "stream",
     "text": [
      "100%|██████████| 597442/597442 [00:02<00:00, 289112.63it/s]\n"
     ]
    },
    {
     "name": "stdout",
     "output_type": "stream",
     "text": [
      "converting captions to indices\n"
     ]
    },
    {
     "name": "stderr",
     "output_type": "stream",
     "text": [
      "100%|██████████| 399687/399687 [00:03<00:00, 112153.23it/s]\n",
      "100%|██████████| 197755/197755 [00:01<00:00, 105369.35it/s]\n"
     ]
    }
   ],
   "source": [
    "%pylab inline\n",
    "import os\n",
    "import re\n",
    "import tqdm\n",
    "import json\n",
    "import time\n",
    "\n",
    "j_train = json.loads(open('/home/paperspace/data/ms_coco/captions_train2014.json').read())\n",
    "j_val = json.loads(open('/home/paperspace/data/ms_coco/captions_val2014.json').read())\n",
    "train = {d['caption']: d['image_id'] for d in j_train['annotations']}\n",
    "val = {d['caption']: d['image_id'] for d in j_val['annotations']}\n",
    "\n",
    "print('filtering non-alphabetic characters'); time.sleep(.1)\n",
    "for d in (train, val):\n",
    "    for k, v in tqdm.tqdm(d.items()):\n",
    "        d.pop(k)\n",
    "        f = re.sub('[^a-z \\h]', '', k.lower())\n",
    "        d[f] = v\n",
    "\n",
    "print('splitting on spaces and hashing'); time.sleep(.1)\n",
    "total = train.keys() + val.keys()\n",
    "words = set()\n",
    "for caption in tqdm.tqdm(total):\n",
    "    for w in caption.split(' '):\n",
    "        if len(w) > 0:\n",
    "            words.add(w)\n",
    "words = sorted(list(words))\n",
    "words_to_inds = dict(zip(words, range(len(words))))\n",
    "inds_to_words = dict(zip(range(len(words)), words))\n",
    "\n",
    "print('converting captions to indices'); time.sleep(.1)\n",
    "for d in (train, val):\n",
    "    for k, v in tqdm.tqdm(d.items()):\n",
    "        d.pop(k)\n",
    "        split_caption = [w for w in k.split(' ') if len(w) > 0]\n",
    "        indices = [words_to_inds[w] for w in split_caption]\n",
    "        try:\n",
    "            d[v].append(indices)\n",
    "        except:\n",
    "            d[v] = []\n",
    "            d[v].append(indices)"
   ]
  },
  {
   "cell_type": "markdown",
   "metadata": {},
   "source": [
    "### Find an appropriate maximum caption length"
   ]
  },
  {
   "cell_type": "code",
   "execution_count": 2,
   "metadata": {},
   "outputs": [
    {
     "name": "stdout",
     "output_type": "stream",
     "text": [
      "max length: 49\n",
      "mean length: 10.485191868\n",
      "median length: 10.0\n",
      "standard deviation: 2.40983629941\n",
      "percent of total captions with greater than 20 words: 0.61%\n"
     ]
    },
    {
     "data": {
      "image/png": "[encoded data removed]",
      "text/plain": [
       "<matplotlib.figure.Figure at 0x7f43297a5990>"
      ]
     },
     "metadata": {},
     "output_type": "display_data"
    }
   ],
   "source": [
    "maxlen = 0\n",
    "total = []\n",
    "for d in (train, val):\n",
    "    for k, v in d.items():\n",
    "        for i, c in enumerate(v):\n",
    "            size = len(c)\n",
    "            total.append(size)\n",
    "            if size > maxlen:\n",
    "                maxlen = size\n",
    "                max_id = k\n",
    "                max_i = i\n",
    "                max_d = d\n",
    "                \n",
    "total = array(total)\n",
    "total.sort()\n",
    "print('max length: '+str(maxlen)) \n",
    "print('mean length: '+str(total.mean()))\n",
    "print('median length: '+str(median(total)))\n",
    "print('standard deviation: '+str(total.std()))\n",
    "print('percent of total captions with greater than 20 words: {:.2f}%'\\\n",
    "      .format(100 * (total > 20).sum() / float(total.size)))\n",
    "plot(total, label='word length')\n",
    "plot(arange(total.size), 20*ones(total.size), label='length=20')\n",
    "legend(loc='best')\n",
    "grid(which='both')"
   ]
  },
  {
   "cell_type": "markdown",
   "metadata": {},
   "source": [
    "### Truncate captions and append EOF token"
   ]
  },
  {
   "cell_type": "code",
   "execution_count": 3,
   "metadata": {},
   "outputs": [],
   "source": [
    "n = len(words)\n",
    "words.append('EOF')\n",
    "words_to_inds['EOF'] = n\n",
    "inds_to_words[n] = 'EOF'\n",
    "\n",
    "target_length = 20\n",
    "\n",
    "for d in (train, val):\n",
    "    for k, v in d.items():\n",
    "        for i, c in enumerate(v):\n",
    "            length = len(c)\n",
    "            v[i] = c[:target_length-1]\n",
    "            v[i].append(n)"
   ]
  },
  {
   "cell_type": "markdown",
   "metadata": {},
   "source": [
    "### Visualize stats again"
   ]
  },
  {
   "cell_type": "code",
   "execution_count": 4,
   "metadata": {},
   "outputs": [
    {
     "name": "stdout",
     "output_type": "stream",
     "text": [
      "max length: 20\n",
      "mean length: 11.4477455552\n",
      "median length: 11.0\n",
      "standard deviation: 2.19267018625\n",
      "percent of total captions with greater than 20 words: 0.00%\n"
     ]
    },
    {
     "data": {
      "image/png": "[encoded data removed]",
      "text/plain": [
       "<matplotlib.figure.Figure at 0x7f434df8c0d0>"
      ]
     },
     "metadata": {},
     "output_type": "display_data"
    }
   ],
   "source": [
    "maxlen = 0\n",
    "total = []\n",
    "for d in (train, val):\n",
    "    for k, v in d.items():\n",
    "        for i, c in enumerate(v):\n",
    "            size = len(c)\n",
    "            total.append(size)\n",
    "            if size > maxlen:\n",
    "                maxlen = size\n",
    "                max_id = k\n",
    "                max_i = i\n",
    "                max_d = d\n",
    "                \n",
    "total = array(total)\n",
    "total.sort()\n",
    "print('max length: '+str(maxlen)) \n",
    "print('mean length: '+str(total.mean()))\n",
    "print('median length: '+str(median(total)))\n",
    "print('standard deviation: '+str(total.std()))\n",
    "print('percent of total captions with greater than 20 words: {:.2f}%'\\\n",
    "      .format(100 * (total > 20).sum() / float(total.size)))\n",
    "plot(total, label='word length')\n",
    "plot(arange(total.size), 20*ones(total.size), label='length=20')\n",
    "legend(loc='best')\n",
    "grid(which='both')"
   ]
  },
  {
   "cell_type": "markdown",
   "metadata": {},
   "source": [
    "### Save"
   ]
  },
  {
   "cell_type": "code",
   "execution_count": 5,
   "metadata": {},
   "outputs": [],
   "source": [
    "output_dir = '/home/paperspace/data/ms_coco/preproc'\n",
    "if not os.path.exists(output_dir):\n",
    "    os.makedirs(output_dir)\n",
    "    \n",
    "with open(os.path.join(output_dir, 'train_captions.json'), 'w') as outfile:\n",
    "    json.dump(train, outfile)\n",
    "with open(os.path.join(output_dir, 'val_captions.json'), 'w') as outfile:\n",
    "    json.dump(val, outfile)\n",
    "with open(os.path.join(output_dir, 'words_to_inds.json'), 'w') as outfile:\n",
    "    json.dump(words_to_inds, outfile)\n",
    "with open(os.path.join(output_dir, 'inds_to_words.json'), 'w') as outfile:\n",
    "    json.dump(inds_to_words, outfile)"
   ]
  }
 ],
 "metadata": {
  "kernelspec": {
   "display_name": "Python 2",
   "language": "python",
   "name": "python2"
  },
  "language_info": {
   "codemirror_mode": {
    "name": "ipython",
    "version": 2
   },
   "file_extension": ".py",
   "mimetype": "text/x-python",
   "name": "python",
   "nbconvert_exporter": "python",
   "pygments_lexer": "ipython2",
   "version": "2.7.6"
  }
 },
 "nbformat": 4,
 "nbformat_minor": 2
}
