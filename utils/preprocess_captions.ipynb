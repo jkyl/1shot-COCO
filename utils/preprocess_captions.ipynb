{
 "cells": [
  {
   "cell_type": "markdown",
   "metadata": {},
   "source": [
    "### Convert captions to lists of token indices"
   ]
  },
  {
   "cell_type": "code",
   "execution_count": 1,
   "metadata": {
    "scrolled": false
   },
   "outputs": [
    {
     "name": "stdout",
     "output_type": "stream",
     "text": [
      "Populating the interactive namespace from numpy and matplotlib\n",
      "filtering non-alphabetic characters\n"
     ]
    },
    {
     "name": "stderr",
     "output_type": "stream",
     "text": [
      "100%|██████████| 400962/400962 [00:01<00:00, 295176.64it/s]\n",
      "100%|██████████| 198162/198162 [00:00<00:00, 271636.39it/s]\n"
     ]
    },
    {
     "name": "stdout",
     "output_type": "stream",
     "text": [
      "splitting on spaces and hashing\n"
     ]
    },
    {
     "name": "stderr",
     "output_type": "stream",
     "text": [
      "100%|██████████| 597442/597442 [00:02<00:00, 270927.35it/s]\n"
     ]
    },
    {
     "name": "stdout",
     "output_type": "stream",
     "text": [
      "filtering stopwords\n",
      "converting captions to indices\n"
     ]
    },
    {
     "name": "stderr",
     "output_type": "stream",
     "text": [
      "100%|██████████| 399687/399687 [00:04<00:00, 96489.11it/s] \n",
      "100%|██████████| 197755/197755 [00:01<00:00, 112946.52it/s]\n"
     ]
    }
   ],
   "source": [
    "import os\n",
    "import re\n",
    "import tqdm\n",
    "import json\n",
    "import time\n",
    "%pylab inline\n",
    "\n",
    "THRESHOLD = 5\n",
    "\n",
    "j_train = json.loads(open('/home/paperspace/data/ms_coco/captions_train2014.json').read())\n",
    "j_val = json.loads(open('/home/paperspace/data/ms_coco/captions_val2014.json').read())\n",
    "train = {d['caption']: d['image_id'] for d in j_train['annotations']}\n",
    "val = {d['caption']: d['image_id'] for d in j_val['annotations']}\n",
    "\n",
    "print('filtering non-alphabetic characters'); time.sleep(.2)\n",
    "for d in (train, val):\n",
    "    for k in tqdm.tqdm(d.keys()):\n",
    "        f = re.sub('[^a-z \\h]', '', k.lower())\n",
    "        d[f] = d.pop(k)\n",
    "\n",
    "print('splitting on spaces and hashing'); time.sleep(.2)\n",
    "total = train.keys() + val.keys()\n",
    "instances = {}\n",
    "for caption in tqdm.tqdm(total):\n",
    "    for w in caption.split(' '):\n",
    "        if w != '':\n",
    "            try:\n",
    "                instances[w] += 1\n",
    "            except:\n",
    "                instances[w] = 1\n",
    "\n",
    "print('filtering stopwords')\n",
    "words = sorted(instances.keys())\n",
    "words_set = set(words)\n",
    "#nltk_stopwords = set(w for w in open('stopwords.txt').read().split('\\n') if w != '')\n",
    "go_words = set([w for (w, c) in instances.items() if c > THRESHOLD])\n",
    "stop_words = words_set - go_words\n",
    "\n",
    "words_to_inds = dict(zip(sorted(list(go_words)), range(len(go_words))))\n",
    "inds_to_words = dict(zip(range(len(go_words)), sorted(list(go_words))))\n",
    "\n",
    "words_to_inds['UNKNOWN'] = len(go_words)\n",
    "inds_to_words[len(go_words)] = 'UNKNOWN'\n",
    "\n",
    "\n",
    "print('converting captions to indices'); time.sleep(.2)\n",
    "for d in (train, val):\n",
    "    for k in tqdm.tqdm(d.keys()):\n",
    "        v = d.pop(k)\n",
    "        split = k.split(' ')\n",
    "        split_caption = []\n",
    "        for w in split:\n",
    "            if w != '':\n",
    "                if w in stop_words:\n",
    "                    w = 'UNKNOWN'\n",
    "                split_caption.append(w)\n",
    "                \n",
    "        indices = [words_to_inds[w] for w in split_caption]\n",
    "        try:\n",
    "            d[v].append(indices)\n",
    "        except:\n",
    "            d[v] = []\n",
    "            d[v].append(indices)"
   ]
  },
  {
   "cell_type": "markdown",
   "metadata": {},
   "source": [
    "### Find an appropriate maximum caption length"
   ]
  },
  {
   "cell_type": "code",
   "execution_count": 6,
   "metadata": {},
   "outputs": [
    {
     "name": "stdout",
     "output_type": "stream",
     "text": [
      "max length: 49\n",
      "mean length: 10.485191868\n",
      "median length: 10.0\n",
      "standard deviation: 2.40983629941\n",
      "percent of total captions with greater than 20 words: 0.61%\n",
      "\n",
      "black night a blurry shot shows a tall fence that angles in a kind of UNKNOWN shape around what appears to be a parking area with a large building UNKNOWN it as a kid with a red helmet takes a fierce swing in the batting area inside the fence\n"
     ]
    },
    {
     "data": {
      "image/png": "[encoded data removed]",
      "text/plain": [
       "<matplotlib.figure.Figure at 0x7fd72c7afe10>"
      ]
     },
     "metadata": {},
     "output_type": "display_data"
    }
   ],
   "source": [
    "maxlen = 0\n",
    "total = []\n",
    "for d in (train, val):\n",
    "    for k, v in d.items():\n",
    "        for i, c in enumerate(v):\n",
    "            size = len(c)\n",
    "            total.append(size)\n",
    "            if size > maxlen:\n",
    "                maxlen = size\n",
    "                max_id = k\n",
    "                max_i = i\n",
    "                max_d = d\n",
    "                \n",
    "total = array(total)\n",
    "total.sort()\n",
    "print('max length: '+str(maxlen)) \n",
    "print('mean length: '+str(total.mean()))\n",
    "print('median length: '+str(median(total)))\n",
    "print('standard deviation: '+str(total.std()))\n",
    "print('percent of total captions with greater than 20 words: {:.2f}%'\\\n",
    "      .format(100 * (total > 20).sum() / float(total.size)))\n",
    "plot(total, label='word length')\n",
    "plot(arange(total.size), 20*ones(total.size), label='length=20')\n",
    "legend(loc='best')\n",
    "grid(which='both')\n",
    "print('\\n' + ' '.join([inds_to_words[i] for i in max_d[max_id][max_i]]))"
   ]
  },
  {
   "cell_type": "markdown",
   "metadata": {},
   "source": [
    "### Truncate captions and append EOF token"
   ]
  },
  {
   "cell_type": "code",
   "execution_count": 7,
   "metadata": {
    "collapsed": true
   },
   "outputs": [],
   "source": [
    "n = len(words_to_inds)\n",
    "words_to_inds['EOF'] = n\n",
    "inds_to_words[n] = 'EOF'\n",
    "\n",
    "target_length = 20\n",
    "\n",
    "for d in (train, val):\n",
    "    for k, v in d.items():\n",
    "        n_captions = len(v)\n",
    "        if n_captions < 7:\n",
    "            d[k] += [[]]*(7-n_captions)\n",
    "        for i, c in enumerate(d[k]):\n",
    "            v[i] = c[:target_length-1]\n",
    "            v[i] += [n]\n",
    "            if len(v[i]) < target_length:\n",
    "                v[i] += [-1]*(target_length-len(v[i]))"
   ]
  },
  {
   "cell_type": "markdown",
   "metadata": {},
   "source": [
    "### Save"
   ]
  },
  {
   "cell_type": "code",
   "execution_count": 11,
   "metadata": {
    "collapsed": true
   },
   "outputs": [],
   "source": [
    "output_dir = '/home/paperspace/data/ms_coco/preproc_vocab-{}_threshold-{}_length-{}'\\\n",
    "             .format(len(words_to_inds), THRESHOLD, target_length)\n",
    "if not os.path.exists(output_dir):\n",
    "    os.makedirs(output_dir)\n",
    "    \n",
    "with open(os.path.join(output_dir, 'train_captions.json'), 'w') as outfile:\n",
    "    json.dump(train, outfile)\n",
    "with open(os.path.join(output_dir, 'val_captions.json'), 'w') as outfile:\n",
    "    json.dump(val, outfile)\n",
    "with open(os.path.join(output_dir, 'words_to_inds.json'), 'w') as outfile:\n",
    "    json.dump(words_to_inds, outfile)\n",
    "with open(os.path.join(output_dir, 'inds_to_words.json'), 'w') as outfile:\n",
    "    json.dump(inds_to_words, outfile)"
   ]
  },
  {
   "cell_type": "code",
   "execution_count": 13,
   "metadata": {},
   "outputs": [
    {
     "name": "stdout",
     "output_type": "stream",
     "text": [
      "inds_to_words.json  train_captions.json  val_captions.json  words_to_inds.json\r\n"
     ]
    }
   ],
   "source": [
    "ls /home/paperspace/data/ms_coco/preproc_vocab-9509_threshold-5_length-20/"
   ]
  },
  {
   "cell_type": "code",
   "execution_count": null,
   "metadata": {
    "collapsed": true
   },
   "outputs": [],
   "source": []
  }
 ],
 "metadata": {
  "kernelspec": {
   "display_name": "Python 2",
   "language": "python",
   "name": "python2"
  },
  "language_info": {
   "codemirror_mode": {
    "name": "ipython",
    "version": 2
   },
   "file_extension": ".py",
   "mimetype": "text/x-python",
   "name": "python",
   "nbconvert_exporter": "python",
   "pygments_lexer": "ipython2",
   "version": "2.7.6"
  }
 },
 "nbformat": 4,
 "nbformat_minor": 2
}
