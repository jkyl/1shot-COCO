{
 "cells": [
  {
   "cell_type": "code",
   "execution_count": null,
   "metadata": {
    "scrolled": true
   },
   "outputs": [],
   "source": [
    "from serialize_data import main\n",
    "main('/home/paperspace/data/ms_coco/val2014/', \n",
    "     '/home/paperspace/data/ms_coco/captions_val2014.json',\n",
    "     '/home/paperspace/data/ms_coco/instances_val2014.json',\n",
    "     '/tmp/tfrecord')"
   ]
  },
  {
   "cell_type": "code",
   "execution_count": null,
   "metadata": {
    "collapsed": true
   },
   "outputs": [],
   "source": [
    "#### import json\n",
    "import tqdm\n",
    "import numpy as np\n",
    "\n",
    "def load_json():\n",
    "    s = open('/home/paperspace/data/ms_coco/captions_val2014.json').read()\n",
    "    return json.loads(s)"
   ]
  },
  {
   "cell_type": "code",
   "execution_count": null,
   "metadata": {
    "collapsed": true
   },
   "outputs": [],
   "source": [
    "j = load_json()\n",
    "d = {d['caption']: d['image_id'] for d in j['annotations']}\n",
    "dd = {}\n",
    "for caption, img_id in tqdm.tqdm(d.items()):\n",
    "    try:\n",
    "        dd[img_id].append(caption)\n",
    "    except:\n",
    "        dd[img_id] = []\n",
    "        dd[img_id].append(caption)"
   ]
  },
  {
   "cell_type": "code",
   "execution_count": null,
   "metadata": {
    "collapsed": true
   },
   "outputs": [],
   "source": [
    "ddd = {}\n",
    "eye = np.vstack([np.eye(256).astype('bool'), np.zeros(256)])\n",
    "for k, v in tqdm.tqdm(dd.items()):\n",
    "    ddd[k] = np.array([eye[\n",
    "        np.pad([ord(c) for c in caption], \n",
    "               (0, 256-len(caption)), \n",
    "               mode='constant',\n",
    "               constant_values=256)] for caption in v])"
   ]
  },
  {
   "cell_type": "code",
   "execution_count": null,
   "metadata": {
    "collapsed": true
   },
   "outputs": [],
   "source": [
    "zip(*sorted(dd.items()))"
   ]
  },
  {
   "cell_type": "code",
   "execution_count": null,
   "metadata": {
    "collapsed": true
   },
   "outputs": [],
   "source": [
    "np.vstack([np.eye(256), np.zeros(256)])[[0, 1, 1, 256]]"
   ]
  },
  {
   "cell_type": "code",
   "execution_count": null,
   "metadata": {
    "collapsed": true
   },
   "outputs": [],
   "source": [
    "import glob\n",
    "imgs = glob.glob('/home/paperspace/data/ms_coco/val2014/*')"
   ]
  },
  {
   "cell_type": "code",
   "execution_count": null,
   "metadata": {
    "collapsed": true
   },
   "outputs": [],
   "source": [
    "np.array(list('hello')).astype('int')"
   ]
  },
  {
   "cell_type": "code",
   "execution_count": null,
   "metadata": {
    "collapsed": true
   },
   "outputs": [],
   "source": [
    "import tensorflow as tf\n",
    "import time"
   ]
  },
  {
   "cell_type": "code",
   "execution_count": null,
   "metadata": {
    "collapsed": true
   },
   "outputs": [],
   "source": [
    "coord = tf.train.Coordinator()\n",
    "inp = tf.train.input_producer(tf.random_normal(shape=(100,2))).dequeue()\n",
    "with tf.Session() as sess:\n",
    "    tf.train.start_queue_runners(sess=sess, coord=coord)\n",
    "    while True:\n",
    "        print(sess.run(inp))\n",
    "        time.sleep(1)"
   ]
  },
  {
   "cell_type": "code",
   "execution_count": null,
   "metadata": {
    "collapsed": true
   },
   "outputs": [],
   "source": [
    "q = tf.train.input_producer([[1, 2], [3, 4]])"
   ]
  },
  {
   "cell_type": "code",
   "execution_count": null,
   "metadata": {
    "collapsed": true
   },
   "outputs": [],
   "source": [
    "tf.train.input_producer?"
   ]
  },
  {
   "cell_type": "code",
   "execution_count": null,
   "metadata": {
    "collapsed": true
   },
   "outputs": [],
   "source": [
    "json.loads(open('/home/paperspace/data/ms_coco/annotations/instances_val2014.json').read())"
   ]
  },
  {
   "cell_type": "code",
   "execution_count": 1,
   "metadata": {},
   "outputs": [],
   "source": [
    "import tensorflow as tf\n",
    "import tqdm\n",
    "coord = tf.train.Coordinator()\n",
    "reader = tf.TFRecordReader()\n",
    "_, serialized_example = reader.read(tf.train.string_input_producer(\n",
    "    ['/home/paperspace/data/ms_coco/train.tfrecord']))\n",
    "feature = {'image': tf.FixedLenFeature([], tf.string),\n",
    "           'caption': tf.FixedLenFeature([], tf.string),\n",
    "           'class': tf.FixedLenFeature([], tf.int64)}\n",
    "# Decode the record read by the reader\n",
    "features = tf.parse_single_example(serialized_example, features=feature)"
   ]
  },
  {
   "cell_type": "code",
   "execution_count": 2,
   "metadata": {},
   "outputs": [
    {
     "name": "stderr",
     "output_type": "stream",
     "text": [
      "100%|██████████| 1/1 [00:01<00:00,  1.01s/it]\n"
     ]
    },
    {
     "name": "stdout",
     "output_type": "stream",
     "text": [
      "INFO:tensorflow:Error reported to Coordinator: <class 'tensorflow.python.framework.errors_impl.CancelledError'>, Run call was cancelled\n"
     ]
    }
   ],
   "source": [
    "with tf.Session() as sess:\n",
    "    tf.train.start_queue_runners(sess=sess, coord=coord)\n",
    "    for i in tqdm.trange(1):\n",
    "        d = sess.run(features)"
   ]
  },
  {
   "cell_type": "code",
   "execution_count": 3,
   "metadata": {},
   "outputs": [],
   "source": [
    "with tf.Session() as sess:\n",
    "    rv = sess.run(tf.image.decode_jpeg(d['image']))"
   ]
  },
  {
   "cell_type": "code",
   "execution_count": 4,
   "metadata": {},
   "outputs": [
    {
     "name": "stdout",
     "output_type": "stream",
     "text": [
      "Populating the interactive namespace from numpy and matplotlib\n"
     ]
    },
    {
     "data": {
      "text/plain": [
       "<matplotlib.image.AxesImage at 0x7f96a1a1c4d0>"
      ]
     },
     "execution_count": 4,
     "metadata": {},
     "output_type": "execute_result"
    },
    {
     "data": {
      "image/png": "[encoded data removed]",
      "text/plain": [
       "<matplotlib.figure.Figure at 0x7f9774510b90>"
      ]
     },
     "metadata": {},
     "output_type": "display_data"
    }
   ],
   "source": [
    "%pylab inline\n",
    "imshow(rv)"
   ]
  },
  {
   "cell_type": "code",
   "execution_count": 5,
   "metadata": {},
   "outputs": [
    {
     "data": {
      "text/plain": [
       "{'caption': 'A bunch of trays that have different food.',\n",
       " 'class': 55,\n",
       " 'image': '\\xff\\xd8\\xff\\xe0\\x00\\x10JFIF\\x00\\x01\\x01\\x01\\x01,\\x01,\\x00\\x00\\xff\\xdb\\x00C\\x00\\x02\\x01\\x01\\x01\\x01\\x01\\x02\\x01\\x01\\x01\\x02\\x02\\x02\\x02\\x02\\x04\\x03\\x02\\x02\\x02\\x02\\x05\\x04\\x04\\x03\\x04\\x06\\x05\\x06\\x06\\x06\\x05\\x06\\x06\\x06\\x07\\t\\x08\\x06\\x07\\t\\x07\\x06\\x06\\x08\\x0b\\x08\\t\\n\\n\\n\\n\\n\\x06\\x08\\x0b\\x0c\\x0b\\n\\x0c\\t\\n\\n\\n\\xff\\xdb\\x00C\\x01\\x02\\x02\\x02\\x02\\x02\\x02\\x05\\x03\\x03\\x05\\n\\x07\\x06\\x07\\n\\n\\n\\n\\n\\n\\n\\n\\n\\n\\n\\n\\n\\n\\n\\n\\n\\n\\n\\n\\n\\n\\n\\n\\n\\n\\n\\n\\n\\n\\n\\n\\n\\n\\n\\n\\n\\n\\n\\n\\n\\n\\n\\n\\n\\n\\n\\n\\n\\n\\xff\\xc0\\x00\\x11\\x08\\x00@\\x00@\\x03\\x01\"\\x00\\x02\\x11\\x01\\x03\\x11\\x01\\xff\\xc4\\x00\\x1f\\x00\\x00\\x01\\x05\\x01\\x01\\x01\\x01\\x01\\x01\\x00\\x00\\x00\\x00\\x00\\x00\\x00\\x00\\x01\\x02\\x03\\x04\\x05\\x06\\x07\\x08\\t\\n\\x0b\\xff\\xc4\\x00\\xb5\\x10\\x00\\x02\\x01\\x03\\x03\\x02\\x04\\x03\\x05\\x05\\x04\\x04\\x00\\x00\\x01}\\x01\\x02\\x03\\x00\\x04\\x11\\x05\\x12!1A\\x06\\x13Qa\\x07\"q\\x142\\x81\\x91\\xa1\\x08#B\\xb1\\xc1\\x15R\\xd1\\xf0$3br\\x82\\t\\n\\x16\\x17\\x18\\x19\\x1a%&\\'()*456789:CDEFGHIJSTUVWXYZcdefghijstuvwxyz\\x83\\x84\\x85\\x86\\x87\\x88\\x89\\x8a\\x92\\x93\\x94\\x95\\x96\\x97\\x98\\x99\\x9a\\xa2\\xa3\\xa4\\xa5\\xa6\\xa7\\xa8\\xa9\\xaa\\xb2\\xb3\\xb4\\xb5\\xb6\\xb7\\xb8\\xb9\\xba\\xc2\\xc3\\xc4\\xc5\\xc6\\xc7\\xc8\\xc9\\xca\\xd2\\xd3\\xd4\\xd5\\xd6\\xd7\\xd8\\xd9\\xda\\xe1\\xe2\\xe3\\xe4\\xe5\\xe6\\xe7\\xe8\\xe9\\xea\\xf1\\xf2\\xf3\\xf4\\xf5\\xf6\\xf7\\xf8\\xf9\\xfa\\xff\\xc4\\x00\\x1f\\x01\\x00\\x03\\x01\\x01\\x01\\x01\\x01\\x01\\x01\\x01\\x01\\x00\\x00\\x00\\x00\\x00\\x00\\x01\\x02\\x03\\x04\\x05\\x06\\x07\\x08\\t\\n\\x0b\\xff\\xc4\\x00\\xb5\\x11\\x00\\x02\\x01\\x02\\x04\\x04\\x03\\x04\\x07\\x05\\x04\\x04\\x00\\x01\\x02w\\x00\\x01\\x02\\x03\\x11\\x04\\x05!1\\x06\\x12AQ\\x07aq\\x13\"2\\x81\\x08\\x14B\\x91\\xa1\\xb1\\xc1\\t#3R\\xf0\\x15br\\xd1\\n\\x16$4\\xe1%\\xf1\\x17\\x18\\x19\\x1a&\\'()*56789:CDEFGHIJSTUVWXYZcdefghijstuvwxyz\\x82\\x83\\x84\\x85\\x86\\x87\\x88\\x89\\x8a\\x92\\x93\\x94\\x95\\x96\\x97\\x98\\x99\\x9a\\xa2\\xa3\\xa4\\xa5\\xa6\\xa7\\xa8\\xa9\\xaa\\xb2\\xb3\\xb4\\xb5\\xb6\\xb7\\xb8\\xb9\\xba\\xc2\\xc3\\xc4\\xc5\\xc6\\xc7\\xc8\\xc9\\xca\\xd2\\xd3\\xd4\\xd5\\xd6\\xd7\\xd8\\xd9\\xda\\xe2\\xe3\\xe4\\xe5\\xe6\\xe7\\xe8\\xe9\\xea\\xf2\\xf3\\xf4\\xf5\\xf6\\xf7\\xf8\\xf9\\xfa\\xff\\xda\\x00\\x0c\\x03\\x01\\x00\\x02\\x11\\x03\\x11\\x00?\\x00\\xfc\\x8d\\xb5\\xb4\\xb8\\xb1\\x94\\xda\\\\\\xda\\xb4L\\x87\\x0f\\x13\\xa9VS\\xe8F2+B\\xda\\x08\\x802L\\xff\\x00*\\xe3$\\xf0\\x07\\xe3^\\xb1\\xfb>\\xfe\\xc1\\x7f\\xb4o\\xc7\\xbdB\\xce\\xe2\\xd3\\xc3\\x92\\xe8ze\\xf3\\xaf\\x91\\xaakp\\xc9\\xe6\\\\\\x03\\xc7\\xee-\\x94\\x19\\xae\\t\\xed\\x85\\n\\x7f\\xbc+\\xec\\xad\\x1f\\xf6!\\xf8]\\xfb\\x17C\\x11\\xf1\\x0f\\x82\\xaf5\\x0f\\x1a\\x1b\\x1f\\xb4\\xd9\\xdf\\xf8\\xca\\xc4G($|\\xafom \\xf2\\xe0R\\xd8\\x01\\xce\\xe6\\xcf\\x1b\\xc5\\x7fVg<o\\x91p\\xe59:\\xb5\\x14\\xa7\\x15v\\x93Z[\\xbfo\\xcf\\xc8\\xe2\\xe0\\xef\\x06\\xf8\\xb7\\x8c\\xaa\\xc2n+\\x0fFZ\\xf3\\xd4\\xd1\\xc9w\\x84>)\\xf95h\\xff\\x00y\\x1e\\x19\\xfb\\x14\\xff\\x00\\xc1<\\xf5/\\xda\\x9f\\xe1g\\x8a>-\\xdf\\xeaz\\xbe\\x99\\xa5\\xf8jw\\xb7\\x91\\xad\\xaca\\x8dK\\x88D\\xb9\\xf3.]\\x16F\\xda\\x7f\\xd5\\xaf=2\\xcb\\xb8WOu\\xfb5\\xfc1\\xf8u\\xf1#H\\xf06\\xad\\xe0{\\x8d%-\\xad,u\\xbd\\x1f\\xc6\\x9e#\\xbaR\\xb7\\xb7\\x11:\\xc8\\xd6\\xd7Q\\x071%\\xb4\\xc44D\\xc6\\xa4\\xa6C\\x86`\\xa4\\x9f\\xa8\\xbc5q\\xaf\\xfc\\x04\\xfd\\x84\\xe0\\xf8{/\\x88l\\xef\\xe4\\xf1:\\xcf\\xaeG\\xab\\xda\\x1d\\xa3Q\\xfbE\\xcc\\x93\\x19\\x1c9\\xdc\\x8cP\\xf9N\\xad\\xf7$\\x88\\xaeN2~~\\xf0\\x1e\\x95\\xe1\\xff\\x00\\x18\\xfc`\\xd3,\\xb5\\x99\\xbc\\xcb\\xbb\\xfb\\xbby-eUY6\\xf9\\xd7\\x90F\\x84\\x97\\xce\\xc5H\\x8a\\xe4tP\\x84\\x1cd\\xe3\\xf8\\xb7\\x89<p\\xe3|\\xc79\\xa9R\\x96&T\\xe8)\\xf3B\\x9ctV[E\\xb8\\xa8\\xcaQku&\\xd3n\\xfd\\xad\\xfbo\\x05\\xf0o\\x0cp\\xe4\\xa7*\\xb8:X\\x84\\x93\\x8f=X\\xb7.\\xfc\\xf1M\\xb5\\t_\\xf9U\\xd2\\xd3\\xb9\\xebz\\xc4\\x1e#\\xf8\\xad\\xf1\\xab@\\xf07\\x84t;\\xb6\\x1a\\xd6\\xb1\\xf6\\xcb\\xfba\\x16d\\x1eL\\x8aM\\xa3\\xe3\\xf8\\xc4\\x9bU\\x80\\xe0\\xae\\xd6\\x04\\xab)?E\\xff\\x00\\xc1f\\x7fe?\\x89\\xff\\x00\\xb5\\xaf\\xc0\\x0f\\x0bx#\\xe0\\xd7\\x80t\\xdd_\\xc7\\x1e\\x02\\xb5\\x92\\xfe\\xc7W\\xbf\\xd4c\\xb3\\x99-\\x95\\x17\\xedV!\\x9c\\xe1\\xdaBP\\xa4nUwE\\x9d\\xcaF\\x0f\\x17\\xfb)\\xf8\\xb2\\xf7O\\xf8\\x9b\\xe3\\xef\\x8c\\x1a4>}\\xaf\\x82<Me\\xe4\\xe9\\xf7\\xaf\\x0f\\xfcL4\\x8b\\xb7\\x92\\xde\\t-\\x19FZx\\xae#\\x91\\x10\\x12L\\x90\\xbaB\\t\\xdb\\x16>\\xb2\\xf0O\\xc3\\xed7\\xf6\\x84\\xd15\\xcf\\x10\\xf8kS[=M\\x9d/\\xaduI\\xaf$xNeVd1\\x86\\x1b\\xa3e\\'\\x802\\x0e\\xd3\\x9e\\r\\x7f6\\xf8\\xd1\\xc5\\x1cUS\\x8a\\xf2\\xbe*\\xc2\\xd1\\x97\\xb3\\x94}\\x9a\\xb3|\\x91\\x9a\\xbc\\xea\\xd2\\xa9g\\xa4eh\\xce/g\\x14\\xf5\\xbc\\'o\\xd7\\xf8\\xb75Y\\x94\\xa8f0\\x97$($\\xb9\\x96\\xae5%d\\xef\\xaaz&\\x9a\\xb5\\xee\\x9ft\\xd2\\xfcJ\\xf8\\x83\\xfb?\\xfe\\xd2\\xdf\\xb1\\xc6\\xbb\\xa5i_\\x1c\\xfc\\x01m\\xa7\\xddkZ!\\xb9kAq\\x16\\xa1gye#y2G0BT\\xc6\\xcc|\\xb6F\\xc0$\\xe0\\x1c\\xe0\\xd7\\x85\\xeb:W\\xc4\\xef\\xd8\\x8b\\xe2\\r\\xb7\\xed\\x8b\\xfb\\x1ak\\x97Vz\\x04\\x17+\\x1e\\xb1\\xa4\\xbb\\x19\\xce\\x88\\xd2\\x9c\\x1b+\\xb5o\\xf8\\xf8\\xb2\\x94\\xfc\\xb1J\\xddxG+\"\\x86o\\xea{\\xc5\\x7f\\xb3\\xe7\\xec\\xdf\\xaf\\xfc+\\xf1_\\xc3\\xcf\\x89\\x1e\\x1b\\xb5\\xba\\xd3|e\\xa0\\x0b\\x0f\\x14j\\xd7\\xea\\xbe}\\xcc\\n0\\x87\\xceo\\xb9\\xe5\\xb7\\xef#\\x0b\\x80\\x8e7\\x01\\x9ek\\xf9\\xdb\\xfd\\xa5~\\x14i\\x9f\\xb2/\\xc3\\x1f\\x8b\\xda\\x97\\x89\\xfe%\\xe9\\xbe%\\xf2\\xf4mK\\xc3z-\\x86\\x87\\x99\\xe1\\xbfK\\xa9E\\xac\\x17\\x972\\x8c$Ci\\x13\\xac+\\xb9\\xc4\\x91\\xaev\\xe2\\xbf\\xa4<\\x1d\\xe2N&\\xabN\\x9c\\xa5\\x18\\xca\\xea\\xf5y\\x7f\\x87\\x06\\xd6\\xad7\\xddo\\x1dy\\xe3\\xa6\\xb6R_3\\x9dfY\\x07\\x8a\\xbc!\\x8c\\xa7\\x9a\\xd2p\\xaf\\x83\\x83\\x94*\\xdb\\xe2J-\\xd9\\xf6M\\xab8\\xb7\\xdaq\\xb3\\xba_\\xd1\\xbf\\xec\\xd7\\xf0\\x1f\\xe1\\x96\\x95\\xf0\\xa1g\\xf0\\xbf\\x83\\xec\\xb4MCR3\\xcdmyg\\x01K\\xaf \\xbb\\x08\\x83\\xcc\\xc5\\xa4v\\x03\\x01\\x9bws\\xd0b\\xbc\\xfb\\xf6\\xe7\\xfd\\x8c\\xbc\\x05\\xff\\x00\\x05\\x19\\xf8Y\\'\\x82u;\\xf1\\xe1\\xdf\\x1exid:F\\xb2\\xd1\\x926\\x93\\x89m\\xe5\\xc0\\xdc\\xd09\\x00\\x90>dp\\xae3\\xc8>\\xfd\\xf0\\xcf\\xc5>\\x14\\x93\\xc2\\xf0E\\xa3\\xcd\\x1c\\xd6zd\\x9fe7\\x108)\\x0b\\xae\\x11\\xd4s\\x9c\\x87;\\n\\xf5\\xc9\\xc7j\\xa1\\xe3=7[\\xf0\\xbf\\xc4\\xd6\\xf1g\\x86\\xf4\\xb4\\x96\\x1dB\\xde8o%i\\x95R&\\xdd\\xf3\\x9cg%\\xb6\\x80p\\x01\\xcek\\xce\\xc6:\\xeb\\xd9\\xd6\\xbf=\\xda\\x8dD\\x93m\\xc5\\xed.\\xf7RN\\xd2Zu{3\\xf0,&o\\x99Q\\xcc>\\xbb\\x1a\\xb2U\\x95\\xda\\x93n\\xf7\\xd9\\xa6\\xde\\xe9\\xa7f\\x9fM:\\x9f\\x8c>\\x0c\\xfd\\x8f\\xbfj\\x9f\\x1b\\xc5\\xae\\xfc\\'\\xd2\\xe2\\xd15w\\xf8]6\\xaf\\xa3\\xcb=\\x9e\\xa8\\xe0j\\xc1\\xe4\\x82\\xe4\\x1bex\\xc0t*&\\xe0\\x91\\x97\\x94\\x8c\\x0e3\\xe1\\xdf\\x02\\xfe,\\xf8_\\xe1\\xd7\\xc5H|Q.\\x9an#\\x82\\xdb\\xec\\xafoo\\x1a\\xb4\\x83\\xcd\\x89\\x81eV\\xc0wP\\xc1\\xb6w\\xc6:\\x91_\\xae\\xff\\x00\\xf0P\\xff\\x00\\x836\\x9aM\\x9d\\xcf\\xed/\\xf0\\xab\\xc2\\x1a\\xb5\\xf5\\xc2\\xd8\\xc9\\xa7\\xf8\\xbfD\\xd1\\xbcK%\\x85\\xac\\xebp\\xabn\\x97\\xf71\\xc7\"\\t<\\x85\\'&3\\xe6`\\x8c+\\x15\\x18\\xfc\\xd7\\xf8e\\xfb)\\xd9x\\xb7\\xe1=\\x8f\\xc1_\\x89\\xde\\x07\\xbd_\\x1fh\\x9e(\\xdd\\xe1\\xfb\\xbf\\n\\xc5\\x14\\x9a\\x85\\xdc\\x11J|\\xcd\\xc7\\x9d\\x90H\\x14\\x10\\xd2\\xf2\\x81U\\xf1\\x8a\\xf9<\\xc3\\x87+V\\xc4NQJ0\\x8a\\xbb\\x93j0\\x8c\\x7f\\x9aM\\xe9\\x14\\x92\\xd6\\xef\\xef?j\\xe1\\xecU\\\\\\xff\\x00\\x08\\xdd(\\xf3)+\\xcbd\\xe2\\xfe\\xd73\\xbd\\x97\\xf3_M\\x1d\\xf4\\xe9\\xe5Z5\\xe7\\xc5_\\x88\\x7f\\x07\\xbe;\\xeb\\x1e\\x1f\\x92\\xe2\\xff\\x00V\\xf1&\\x99\\xa6h\\x9e\\x12\\xd2\\xb4_1d\\xba\\xbc\\x8f\\\\\\xb6\\xd4\\x1aKx\\xd4d,j\\x03\\x16,\\x04^o,:\\x8f\\xa3\\xfe\\x07\\xff\\x00\\xc1G\\xbe4~\\xc8\\x1e\\x1d\\xd2\\xbc\\x13\\xf1K\\xc1\\x1a\\'\\x88u\\xeb\\xef\\x0b-\\xce\\xbc\\xd6:\\x80-cv\\xd7\\x12\\xaa\\x95\\x913\\x13\\xc8\\xe8\\x8a\\xd2\\x85\\xcaog\\xdaNN=\\x0e\\xeb\\xe0\\xf7\\xc2o\\xd9;\\xe1\\x05\\xd6\\xbb\\xf1\\x16\\xd6\\xcaG\\x05\\x9a\\xd3\\xc1zN\\xa0\\xe2\\xd5\\xaed#\\xfe?.\\xd4\\xf9\\x97\\x92\\x12\\x06\\xe5B\\xb1\\r\\xbdN08k\\xff\\x00\\x82\\x1f\\x07\\x7fk\\xcd\\x1ak\\xfd\\x03\\xc2\\x9aG\\x84|q\\xf6x\\xd3L\\xbb\\xd1\\xb5)\\r\\x8d\\xdb&LvwP\\xcb#\\x88w\\xe4\\xaa\\xca\\xa5J\\xb1\\x1b\\x83\\x02q\\xf0\\xf5\\xbcM\\xf0\\xf7\\x0f\\x80\\xa9\\x94\\xc9<U\\x19T\\x8a\\x9dog\\x17\\x86\\x83Mj\\xb9\\xdf<\\xb9\\x1f\\xfc\\xbe\\x8c4\\xe6\\xf7z\\xb3\\xf4<\\xaa\\x96E\\n\\x15)\\xe3\\x13\\xabBzJ\\xdf\\x0f2[\\xadT\\x9d\\x92\\xd7\\x95Y\\xa5u\\xcc\\x8eo\\xf6\\x90\\xfd\\xba>9\\xfe\\xd1\\xd6\\xa6\\xcfX\\xd7\\xa5\\xd2tr\\x80\\xa6\\x8bap\\xcb\\x12\\x02:1\\xe0\\xbe3\\xf4\\xfa\\xd7\\xe6G\\xfc\\x14W\\xe3\\xb5\\x9e\\x85\\x0e\\x91\\xf0\\xa3\\xc3w\\xe2[\\xb3~o\\xf5\\x848h\\xc4K\\x1bG\\x1c.\\xbd\\x08c#\\xb1S\\xd8\\n\\xfa\\x9b\\xe2g\\x8cn\\xb4\\xef\\x12\\xdf\\xfc0\\xb7\\xba\\x8e\\xc3^\\xb3\\x1eV\\xa3m<{\\xe4\\xd3\\x18\\xb9\\x88\\tb\\x07!\\xc3\\xe4m8?+\\x1eB\\x9a\\xc2\\xf1_\\xfc\\x12\\x83\\xf6g\\xf1\\x1f\\x84u\\x8f\\x88\\x7f\\x12\\xf5\\xef\\x18D|\\x8b\\x87\\xbb\\xf1r\\xebQ\\xdc\\xed\\x9e8\\xe3\\x93zE\\x1c[\\x1d\\x08s\\x94 \\x11\\xb7\\x1b\\x81\\x0c\\x07\\xf5Z\\xcd\\xb0\\x9c9N\\x86\\x17\\x04\\x94ZK\\x95A$\\xa3\\x1d-d\\xac\\x95\\xf7\\xf4\\xd7\\xaa>W\\xc4L\\xe7(\\x87\\x0e\\xd5\\xc9\\xf2e\\x0eY{\\xb2q\\xf8RO\\xdeI\\xad\\x1c\\x9d\\xac\\xf7\\xebws\\xf4\\xf3\\xf6^\\xff\\x00\\x82\\xe2\\xfe\\xc5ZM\\xce\\xa9m\\xaf\\xbe\\xb9\\xa2\\xe9\\x9a\\xf5\\xb4\\xba\\x84\\xf6z\\x86\\x9a\\xb3\\xb5\\xbe\\xa6\\xc5K\\x8f\\x90\\x8d\\xc8\\xfbA\\x1f(\\n\\xeb\\x9c(&\\xafx\\xf3\\xfe\\n\\xc1\\xe2\\xff\\x00\\x89\\xda6\\x95e\\xfb%i\\xf62\\xe8R^\\xdc?\\x8a|[\\xe2KC\\x02Z8\\x94a\"\\x00\\x9f6G^v\\xae\\xe6\\x1d\\x0e\\xd0x\\xf8\\xcb\\xf6z\\xff\\x00\\x82oxK\\xe2v\\xaa\\x9a\\xb5\\x9e\\xabc\\xe2\\x9b\\x1d:E\\x13]\\xc37\\x97\\xa5B\\xd8\\xc8\\xf3\\xee\\x14\\x96\\x94\\xe3$C\\x16Y\\xb8\\xce\\x05}\\x89\\x0f\\x85~\\x14\\xfe\\xce>\\x19Ml\\xcdkw{\\xa6[\\xe2-b\\xfe\\xda(-t\\xd5\\x038\\xb4\\xb6?\\xbb\\x80\\x0cp\\xcd\\xb9\\xcf\\xa85\\xfc\\xe3\\xc5\\xde\"p\\xc7\\x02\\xd4Xlmw_\\x19\\xf6p\\xd4\\xb9}\\xa6\\xb6\\xb2\\xab5\\xa5$\\xf4|\\xbf\\x1b[F\\xc7\\x85\\x1e\\x07\\xe1\\xea\\x15\\xd5J\\xf0wv\\xfd\\xdf5\\xff\\x00\\xf0+\\xafuz\\xb7+j\\xa2\\xf7%\\xd14\\x0f\\x8e?\\x13,%\\xd6>#|B\\xd4\\xb4-\\x1bP\\x02[\\xab\\x99\\xe2\\xd9w\\xa8\\x0c\\xe7\\xfd\\x16\\xcfv\\xdbx\\xc9\\xe4<\\x87\\xdc\\x16\\xe9N\\xf1\\x1f\\xc4o\\x85?\\xb3\\xaf\\x82o\\xa3\\xf0\\xcd\\xac\\x1a\\x1e\\x9d\\xe5\\x97\\xd4/&\\x9f\\xcc\\xbb\\xbe=s<\\xed\\x86~\\x7f\\x84a\\x06x^\\xf5\\xc6\\xc1\\xfbCO\\xe3\\x7f\\x87G\\xc7\\xfe\\x14{\\xcf\\x10Kyh\\xf7\\xd1\\xc5l\\x80\\xdcH\\x87\\x04\\x13\\x1e\\xe2s\\xf3/\\\\\\xf5\\xaf\\xcb\\x0f\\xdb?\\xe2\\xd7\\xc7\\x9f\\x1b\\xfcZ\\xbc\\xb8\\xf8\\xc3a\\xaexv\\x19c\\x9e\\xda\\xcbI\\xbc\\x82h\\xc4\\x16\\xe3co\\x08\\x06$\\xe4+\\x12\\xa7\\x07\\xb9\\x18\\xc5~6\\xe9q\\xdf\\x8c9\\xb4\\xf0\\x19\\xa5O\\xa9`i\\xb6\\xfd\\x8c\\x13\\x8az\\xf5M\\xa9T\\x97y\\xce\\xe9=ROB\\xb8\\x8b;y>Wj0^\\xcd4\\xa3\\x08\\xabB\\xfd\\xdb\\xdeN\\xda\\xa7+\\xeb\\xb2W;\\x1f\\xf8(7\\xfc\\x14S\\xc5^9\\xd7\\xf1\\xa2\\xe9\\xf7\\xb1i\\xb6\\xc9\"\\xe9o\"\\xec\\x11\\xcd\\xca\\xf9\\xcc\\xac9\\xdb\\xf2\\xe0\\x1e\\xb9\\xae\\xd3\\xfe\\t\\x85\\xfbS|4\\xd3\\x02h\\x9e%YlM\\xf5\\x83$\\xb1\\x04g\\x9aK\\xa0\\xbb\\xcc\\xbes\\x92\\x1fy]\\xac\\x00\\r\\xbb\\xcb\\xec\\t\\xaf\\xce\\xff\\x00\\x88\\xba\\xfc\\xda\\xae\\x91\\x1d\\xc5\\xfd\\xe4\\xa2c!VY\\x186J\\x90\\x1f\\x90\\x00=F\\x07\\xa1\\x1e\\x99>\\xa5\\xff\\x00\\x04\\xf2\\xf8\\x80~\\x1c\\xfcW\\x87\\xc5\\xd6\\xba\\xe5\\xb4w~\\x1f\\xd4m\\xb5+{y-D\\xac\\xcb\\x1c\\x8a\\xaf\\x92\\xcc\\xab\\xb0\\x92\\x8ay\\xf9I\\x1f\\xde$~\\xfc\\xbc=\\xe1\\xfc\\xbb\\x84\\xaa\\xe5\\x98j?\\xbb\\xe5\\xd5=y\\x9aW\\xf7\\xbb\\xeb\\xaf\\xae\\xa7\\xe1\\x9cI\\xc5\\x99\\xee.\\x85<_\\xb6p\\xa9\\x87rp\\xe5\\xd1E\\xbd\\x1d\\x97[\\xad\\x1d\\xef\\xa6\\x9b\\x1f\\xa3_\\xb5\\xef\\xec\\xdd\\xa9\\xfcb:\\xaf\\xed\\x83\\xf0\\x97\\xc3\\xbfa\\xf1\\x16\\x9f4O\\xf1\\x1e\\xcd\\xecB\\xff\\x00kX\\xdblD\\xd4YI\\xcc\\xb3\\xc4\\x8a<\\xec/\\xcf\\x01\\x0erQ\\x8b\\xf9\\xe7\\x84~-\\xd8\\xe93\\xde\\xf8Z\\xfe\\xe3M:n\\xa5c;\\xe9\\x96/\\xaaK\\x05\\x9d\\xf1\\xc4\\x8d\\xf60.6,S\\xc4v\\x88\\xfe`\\x19\\x1dNI\\x02\\xbe\\xcc\\xf8s\\xf1\\xaa)5\\xb9#\\xb4\\xb9\\xd3 \\xb9\\xb3h\\xeft\\xbb\\xbbf\\x8c\\xad\\xfd\\xa5\\xcb?\\x97$\\xc8\\x14\\x04i0\\xc0\\xc0\\xc5\\xb2\\xa0\\xe0\\xb2\\xe7\\x1f\\x0e\\xff\\x00\\xc1G\\x7fa_\\x8a>\\x15\\xf1\\xc0\\xf8\\xa5\\xfb1\\xfc@\\x97I\\xf0?\\x8c\\x9ay\"\\xd1f\\xb7\\xf3\\xd3A\\xbf\\x84,\\x976\\x18\\xdaO\\x94\\x01\\x13B\\xff\\x00xD\\ns\\xe5\\x13_\\x9c\\xf0/\\x16\\xcf*\\xe2\\x95\\xc35\\xdd\\xa9\\xa8\\xc7\\xea\\xf2\\x973\\xbcT\\x15\\xe9\\xdfW\\xee\\xdaN\\x1a\\xbfu8\\xe9\\xca\\x93\\xfa\\xde\\x1f\\xc6U\\xcf\\xf8\"\\x8ee9\\xf3\\xc9\\xb9)\\xf2\\xf2\\xaeY\\xf37f\\x95\\x92R\\x8d\\xa4\\xb4[\\xf6\\xb1\\xfa\\xc1\\x07\\xc1\\x7f\\x86\\xbf\\xb1\\xdf\\xec\\xc3\\xe1O\\x85>\\x19\\xf2\\xed4o\\x0b\\xe9Q[\\x99\\x8e\\x15\\xae\\xa7\\xd8\\x0c\\xd7\\x12\\x1f\\xe2\\x92G\\xdc\\xec}\\xf1\\xd0\\x01_\\x07|~\\xf8\\xc5\\xa3~\\xd4z\\xbe\\xa3\\xf0\\xa3[\\xd25\\xeb=\\x028\\r\\xc2\\xc0\\x92\\xc1l5\\x18\\x96M\\xa2]\\xce\\xe5\\xbc\\xbc\\xfc\\xcb\\x85\\x1b\\x88\\xc6kO\\xe2\\x9f\\xed\\xf3\\xe2\\x7f\\xdb\\x0b\\xfe\\t\\xb9\\xf0o\\xc7\\x1au\\xc1\\xfe\\xd8\\xf1>\\x9f6\\x95\\xe2\\xa9`9\\x11j\\xb6\\x04Ez\\x08\\xec\\\\\\x08\\xe6\\x03\\xbaN+\\xe5\\xff\\x00\\x1f\\xf8\\xcf\\xfe\\x15\\xc7\\xc4\\xb9\\xad\"\\xbc\\xbe\\xbf\\xfbV\\x9d\\x0f\\xda\\x13\\xc9\\x12\\x86\\x11\\x0c*\\x82\\xdc|\\x8cC\\x00\\x0f\\xb795\\xf8g\\x86\\xfc\\x13\\x8d\\xc1f\\x98\\x8cNx\\xdc\\xf1\\xaa\\xadmo\\xaa\\x9c*59\\xdf\\xbb\\x973O\\xe6\\xbb\\xaf\\xd2\\xb2z\\xd3\\xc5`\\xd5U+\\xb6\\xee\\xdb\\xf3\\xbf\\xe2\\xd9\\xf4O\\xec\\xff\\x00\\xe0?\\x06x*\\xcb\\xc6~\\x06\\xbc\\xf1\\x04\\xb0\\xc3\\xe1k[\\xccA{<q\\xbd\\x94\\xfeZ\\x11\\x19*HU_\\xb4C\\x9c\\x10\\tn\\xa3\\x9a\\xf5k\\xdf\\x80\\xda\\x07\\xed\\x1f\\xf0OV\\xf0\\xcf\\xed\\x03\\xa0\\xc5\\xaa\\xff\\x00\\xc5?$Z>\\xa9\\xaai\\xcfo6\\x9b|\"\\x923wh\\x08\\xfd\\xder\\x98\\xe7\\x12\\x95\\xc1\\x04W\\x85xN\\xcfO\\xf1W\\x8eu\\xcf\\x17\\xdc\\xe9\\xcbq\\xe1\\x8f\\x18Ea\\xa8Z\\\\\\xea(\\xa9,\\x86\\x1f$:\\xca\\xab\\x80\\xce\\x14</\\xbc2I\\x1a # \\x9a\\xef\\xfe=~\\xd2~\\x12\\xfd\\x8e>\\x0ejph:\\xce\\xb7\\xabh:v\\x9am\\xfe\\xd8\\xd2D\\xcf\\x02\\xaa\\xef\\x85\\x13{\\x16(W\\xe4\\xda\\x08\\xc6\\xc5 \\x90q_\\xd3yV\\x01\\xcf\\x96\\xa3\\xbb\\xb6\\xdd\\xf9\\x9a\\xd2\\xfdtw\\xf4L\\x8c\\xd6\\xa5\\xa8\\xca\\x8dD\\xb5\\xde\\xfbYZ\\xf6on\\x9dz[\\xa1\\xf8\\xb3\\xf17G\\x8fM\\x9fR\\xd3a\\xb5\\x8eH4\\xc3%\\xb9\\xbd\\xb6\\xb6\\'|\\xa8\\xca\\x0e\\t\\xe4\\x06 \\x9f\\x9b\\x90>\\x95\\xc7x\\x0f\\xc5CO\\xf1\\x03Y\\xc9\\xa8\\xcdl\\xf2C,Q\\xdcB\\x80\\xedr\\xbb\\x86{\\xed\\xdc\\xa0\\xf1\\xf9W\\xb4x\\x17M\\x93\\xc6\\x1e\\x1e\\xd7<S}m\\x02\\x9dJ\\xf6\\xebS\\t-\\x9b\\xed\\xcc\\xa2VH\\xe5 `\\xc6\\xc8O+\\x9d\\xa4\\xf3\\x82y\\xf2\\x0f\\x87\\xff\\x00\\xb3\\xff\\x00\\xc5\\xaf\\x8a\\xff\\x00\\x1f\\xe3\\xf8\\x17\\xf0+\\xe1\\xfe\\xab\\xe2\\xbf\\x10jW\\xad\\x0e\\x91\\xa5\\xe96\\xcc\\xd2\\xcd\\xdcI\\x96\\xc0DQ\\x862>\\x14(\\xcb\\x103_\\xb2\\xd0\\xab\\x86\\xa1\\x86\\x9c\\xb1\\x13Q\\x8c\\x15\\xe4\\xe4\\xd2I%\\xabm\\xe8\\x92Z\\xbb\\xe9\\xd4\\xfeo\\xf6\\xd0\\xc6bka\\xe1\\xad\\x9d\\x97[\\xff\\x00_\\x89\\xfa\\x03\\xf0\\xb7\\xf6\\x8b\\xd5\\xef<\\x01\\xa3\\xf8\\xc7\\xe2_\\x8d\\xf4\\xdd/O\\xf0\\xdc6\\x86\\x1b\\xb94\\xdb\\xb259\\xad\\x169\\x17\\x04:\\xa7\\x96\\xcc\\xa5\\x8eT\\xacjr2\\xc7h\\xfb\\x03\\xfe\\nG\\xf1\\xaa\\x0f\\x84\\x7f\\xb2/\\x85oo\\xed\\x1cK\\xe3\\x7f\\x17\\xdbk\\xda}\\xbd\\xcby\\x014\\x8b[9\\x16[\\x87g\\x1f\\'\\x9b%\\xd4)\\x1a\\x10ZC\\x1baHS_6\\xe8\\x7f\\x07\\xff\\x00e\\x9f\\xf8$\\xed\\x86\\x99\\xad|k\\xb4\\xd0\\xbe1\\xfe\\xd1\\x91[D4\\x1f\\x01\\xe9\\xed\\xf6\\x9f\\x0fx6U\\xdcD\\xb7$\\xfc\\xb7\\x97J\\xcd\\xb8\\xb6\\xd1\\x10|\\x94L\\xe5\\xcf\\x94\\xfcY\\xd6\\xbe<\\xfe\\xd6Z\\xd6\\xb1\\xf1\\x9f\\xf6\\x91\\xf8\\x9f>\\xaf\\xe3\\x1b\\xabI\\xce\\x87\\x05\\xcc\\xa0Yh\\xe7\\x07\\xf7\\x9b[\\xf7q\\xc7\\x1e\\xec\\x92@\\x1d\\x07R\\x01\\xf9.\\x1a\\xf0\\x9a\\x9f\\x88\\\\K\\x81\\xe2*\\x90\\x95\\x1c\\xbf\\r)\\xca\\x12\\xb7,\\xf1.Ir\\xaa1z\\xc6\\x94\\\\y\\x9di\\xd9Ii\\x08\\xb8~\\xf02\\xbc\\xea\\xaf\\x02\\xe5x\\xbc\\xba\\x84\\xa3)\\xe2%\\x06\\xe3\\xd2\\x9f-\\xf7i\\xfcN\\xff\\x00\\n\\xbe\\xdd\\xf4\\x7f\\xff\\xd9'}"
      ]
     },
     "execution_count": 5,
     "metadata": {},
     "output_type": "execute_result"
    }
   ],
   "source": [
    "d"
   ]
  },
  {
   "cell_type": "code",
   "execution_count": null,
   "metadata": {
    "collapsed": true
   },
   "outputs": [],
   "source": []
  }
 ],
 "metadata": {
  "kernelspec": {
   "display_name": "Python 2",
   "language": "python",
   "name": "python2"
  },
  "language_info": {
   "codemirror_mode": {
    "name": "ipython",
    "version": 2
   },
   "file_extension": ".py",
   "mimetype": "text/x-python",
   "name": "python",
   "nbconvert_exporter": "python",
   "pygments_lexer": "ipython2",
   "version": "2.7.6"
  }
 },
 "nbformat": 4,
 "nbformat_minor": 2
}
