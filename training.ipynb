{
 "cells": [
  {
   "cell_type": "code",
   "execution_count": null,
   "metadata": {},
   "outputs": [],
   "source": [
    "%pylab inline\n",
    "from textgen import *\n",
    "m = TextGen(299, code_dim=1024, rnn='LSTM', pooling='avg')"
   ]
  },
  {
   "cell_type": "code",
   "execution_count": null,
   "metadata": {
    "collapsed": true
   },
   "outputs": [],
   "source": [
    "y = m.train(\n",
    "    '/home/paperspace/data/ms_coco/preproc/preproc_vocab-9412_threshold-5_length-20/train_crop_299_fullshot.tfrecord',\n",
    "    '/home/paperspace/data/ms_coco/preproc/preproc_vocab-9412_threshold-5_length-20/val_crop_299.tfrecord',\n",
    "    '/home/paperspace/training/gan/exp1',\n",
    "    lr_init=1e-4,\n",
    "    g_updates=1,\n",
    "    lambda_x=10,\n",
    "    lambda_m=0,\n",
    "    lambda_d=0.1,\n",
    "    clip_gradients=5.0,\n",
    "    random_captions=True,\n",
    "    decay_every=10000,\n",
    "    batch_size=16,\n",
    "    validate_every=100,\n",
    "    save_every=10000,\n",
    "    epoch_size=10000,\n",
    "    n_read_threads=6,\n",
    "    n_stage_threads=6,\n",
    "    capacity=8,\n",
    "    cnn_trainable=True,\n",
    ")"
   ]
  },
  {
   "cell_type": "code",
   "execution_count": null,
   "metadata": {},
   "outputs": [],
   "source": [
    "rm -r /home/paperspace/training/gan/"
   ]
  },
  {
   "cell_type": "code",
   "execution_count": null,
   "metadata": {},
   "outputs": [],
   "source": [
    "rv = m.infer(\n",
    "    '/home/paperspace/training/gan/exp1/ckpt_update-0000100000.h5', \n",
    "    '/home/paperspace/data/ms_coco/preproc/preproc_vocab-9412_threshold-5_length-20/val_crop_299.tfrecord', \n",
    "    './', \n",
    "    n=1,\n",
    "    inds_to_words_json='/home/paperspace/data/ms_coco/preproc/preproc_vocab-9412_threshold-5_length-20/inds_to_words.json',\n",
    "    batch_size=16, \n",
    "    n_threads=4,\n",
    ")\n",
    "rv[0][1]"
   ]
  },
  {
   "cell_type": "code",
   "execution_count": null,
   "metadata": {},
   "outputs": [],
   "source": []
  },
  {
   "cell_type": "code",
   "execution_count": null,
   "metadata": {
    "collapsed": true
   },
   "outputs": [],
   "source": []
  }
 ],
 "metadata": {
  "kernelspec": {
   "display_name": "Python 2",
   "language": "python",
   "name": "python2"
  },
  "language_info": {
   "codemirror_mode": {
    "name": "ipython",
    "version": 2
   },
   "file_extension": ".py",
   "mimetype": "text/x-python",
   "name": "python",
   "nbconvert_exporter": "python",
   "pygments_lexer": "ipython2",
   "version": "2.7.6"
  }
 },
 "nbformat": 4,
 "nbformat_minor": 2
}
