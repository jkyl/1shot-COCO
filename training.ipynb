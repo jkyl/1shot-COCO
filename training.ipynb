{
 "cells": [
  {
   "cell_type": "code",
   "execution_count": 1,
   "metadata": {},
   "outputs": [
    {
     "name": "stdout",
     "output_type": "stream",
     "text": [
      "Populating the interactive namespace from numpy and matplotlib\n"
     ]
    },
    {
     "name": "stderr",
     "output_type": "stream",
     "text": [
      "Using TensorFlow backend.\n"
     ]
    }
   ],
   "source": [
    "%pylab inline\n",
    "from textgen import *\n",
    "m = TextGen(224, code_dim=512, rnn='seq2seq')"
   ]
  },
  {
   "cell_type": "code",
   "execution_count": null,
   "metadata": {},
   "outputs": [
    {
     "name": "stdout",
     "output_type": "stream",
     "text": [
      "creating batch reader\n",
      "creating staging area\n",
      "creating optimizer\n",
      "creating summary\n",
      "starting threads\n",
      "initializing variables\n"
     ]
    }
   ],
   "source": [
    "m.train(\n",
    "    '/home/paperspace/data/ms_coco/preproc_vocab-9509_threshold-5_length-20/train_224_crop.tfrecord',\n",
    "    '/home/paperspace/data/ms_coco/preproc_vocab-9509_threshold-5_length-20/val_224_crop.tfrecord',\n",
    "    '/home/paperspace/training/attention/exp14',\n",
    "    lr_init=2e-5,\n",
    "    lambda_Lg=0,\n",
    "    clip_gradients=False,\n",
    "    random_captions=False,\n",
    "    decay_every=200000,\n",
    "    batch_size=64,\n",
    "    validate_every=100,\n",
    "    save_every=10000,\n",
    "    epoch_size=10000,\n",
    "    n_read_threads=6,\n",
    "    n_stage_threads=6,\n",
    "    capacity=8,\n",
    "    all_trainable=True,\n",
    ")"
   ]
  },
  {
   "cell_type": "code",
   "execution_count": null,
   "metadata": {
    "collapsed": true
   },
   "outputs": [],
   "source": []
  }
 ],
 "metadata": {
  "kernelspec": {
   "display_name": "Python 2",
   "language": "python",
   "name": "python2"
  },
  "language_info": {
   "codemirror_mode": {
    "name": "ipython",
    "version": 2
   },
   "file_extension": ".py",
   "mimetype": "text/x-python",
   "name": "python",
   "nbconvert_exporter": "python",
   "pygments_lexer": "ipython2",
   "version": "2.7.6"
  }
 },
 "nbformat": 4,
 "nbformat_minor": 2
}
