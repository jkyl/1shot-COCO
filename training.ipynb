{
 "cells": [
  {
   "cell_type": "code",
   "execution_count": null,
   "metadata": {},
   "outputs": [
    {
     "name": "stdout",
     "output_type": "stream",
     "text": [
      "Populating the interactive namespace from numpy and matplotlib\n"
     ]
    }
   ],
   "source": [
    "%pylab inline\n",
    "from textgen import *\n",
    "m = TextGen(\n",
    "    img_size=299, \n",
    "    code_dim=512, \n",
    "    rnn_type='LSTM', \n",
    "    cnn_type='InceptionV3',\n",
    "    pooling='avg'\n",
    ")"
   ]
  },
  {
   "cell_type": "code",
   "execution_count": null,
   "metadata": {},
   "outputs": [
    {
     "name": "stdout",
     "output_type": "stream",
     "text": [
      "creating batch reader\n",
      "creating staging area\n",
      "creating optimizer\n",
      "creating summary\n",
      "starting threads\n",
      "initializing variables\n",
      "saving weights\n"
     ]
    }
   ],
   "source": [
    "m.train(\n",
    "    '/home/paperspace/data/ms_coco/SOS_preproc_vocab-9413_threshold-5_length-20/val_crop_299_fullshot.tfrecord',\n",
    "    '/home/paperspace/data/ms_coco/SOS_preproc_vocab-9413_threshold-5_length-20/val_crop_299_fullshot.tfrecord',\n",
    "    '/home/paperspace/training/my_baseline',\n",
    "    batch_size=16,\n",
    "    optimizer='adam',\n",
    "    lr_init=1e-4, \n",
    "    decay_every=100000,\n",
    "    g_updates=1, \n",
    "    d_updates=0,\n",
    "    clip_gradients=5.0,\n",
    "    lambda_x=1,\n",
    "    lambda_r=0.001,\n",
    "    lambda_d=0,\n",
    "    lambda_m=0,\n",
    "    cnn_trainable=True,\n",
    "    random_captions=True,\n",
    "    n_read_threads=6,\n",
    "    n_stage_threads=6,\n",
    "    capacity=16,\n",
    "    epoch_size=10000,\n",
    "    save_every=10000,\n",
    "    validate_every=100,\n",
    "    ckpt=None,\n",
    "    cnn_ckpt='pretrained/inception_v3_weights.h5',\n",
    "    inds_to_words_json='/home/paperspace/data/ms_coco/SOS_preproc_vocab-9413_threshold-5_length-20/inds_to_words.json'\n",
    ")"
   ]
  },
  {
   "cell_type": "code",
   "execution_count": null,
   "metadata": {
    "collapsed": true
   },
   "outputs": [],
   "source": []
  }
 ],
 "metadata": {
  "kernelspec": {
   "display_name": "Python 2",
   "language": "python",
   "name": "python2"
  },
  "language_info": {
   "codemirror_mode": {
    "name": "ipython",
    "version": 2
   },
   "file_extension": ".py",
   "mimetype": "text/x-python",
   "name": "python",
   "nbconvert_exporter": "python",
   "pygments_lexer": "ipython2",
   "version": "2.7.6"
  }
 },
 "nbformat": 4,
 "nbformat_minor": 2
}
