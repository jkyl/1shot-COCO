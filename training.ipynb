{
 "cells": [
  {
   "cell_type": "code",
   "execution_count": null,
   "metadata": {},
   "outputs": [],
   "source": [
    "%pylab inline\n",
    "from textgen import *\n",
    "m = TextGen(\n",
    "    img_size=299, \n",
    "    code_dim=512, \n",
    "    rnn_type='LSTM', \n",
    "    cnn_type='InceptionV3',\n",
    "    pooling='avg'\n",
    ")"
   ]
  },
  {
   "cell_type": "code",
   "execution_count": null,
   "metadata": {},
   "outputs": [],
   "source": [
    "m.train(\n",
    "    '/home/paperspace/data/ms_coco/SOS_preproc_vocab-9413_threshold-5_length-20/val_crop_299_fullshot.tfrecord',\n",
    "    '/home/paperspace/data/ms_coco/SOS_preproc_vocab-9413_threshold-5_length-20/val_crop_299_fullshot.tfrecord',\n",
    "    '/tmp/trash',\n",
    "    batch_size=64,\n",
    "    optimizer='adam',\n",
    "    lr_init=1e-4, \n",
    "    decay_every=100000,\n",
    "    g_updates=1, \n",
    "    d_updates=0,\n",
    "    clip_gradients=5.0,\n",
    "    lambda_x=1,\n",
    "    lambda_r=0,\n",
    "    lambda_d=0,\n",
    "    lambda_m=0,\n",
    "    cnn_trainable=True,\n",
    "    random_captions=True,\n",
    "    n_read_threads=6,\n",
    "    n_stage_threads=6,\n",
    "    capacity=16,\n",
    "    epoch_size=10000,\n",
    "    save_every=10000,\n",
    "    validate_every=100,\n",
    "    ckpt=None,\n",
    "    cnn_ckpt='pretrained/inception_v3_weights.h5',\n",
    "    inds_to_words_json='/home/paperspace/data/ms_coco/SOS_preproc_vocab-9413_threshold-5_length-20/inds_to_words.json'\n",
    ")"
   ]
  },
  {
   "cell_type": "code",
   "execution_count": null,
   "metadata": {
    "collapsed": true
   },
   "outputs": [],
   "source": [
    "m.gen.outputs"
   ]
  },
  {
   "cell_type": "code",
   "execution_count": null,
   "metadata": {
    "collapsed": true
   },
   "outputs": [],
   "source": []
  }
 ],
 "metadata": {
  "kernelspec": {
   "display_name": "Python 2",
   "language": "python",
   "name": "python2"
  },
  "language_info": {
   "codemirror_mode": {
    "name": "ipython",
    "version": 2
   },
   "file_extension": ".py",
   "mimetype": "text/x-python",
   "name": "python",
   "nbconvert_exporter": "python",
   "pygments_lexer": "ipython2",
   "version": "2.7.6"
  }
 },
 "nbformat": 4,
 "nbformat_minor": 2
}
