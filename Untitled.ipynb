{
 "cells": [
  {
   "cell_type": "code",
   "execution_count": null,
   "metadata": {},
   "outputs": [],
   "source": [
    "import tensorflow as tf\n",
    "from utils.models import *\n",
    "from main import TextGen\n",
    "import tqdm\n",
    "import keras\n",
    "%pylab inline\n",
    "\n",
    "def rescale_img(img):\n",
    "    img = tf.cast(img, tf.float32)\n",
    "    img -= 127.5\n",
    "    img /= 127.5\n",
    "    return img\n",
    "\n",
    "def string_to_onehots(string, chars=128, pad_length=128):\n",
    "    split_caption = tf.string_split(tf.expand_dims(string, 0), delimiter='')\n",
    "    table = tf.contrib.lookup.index_table_from_tensor(\n",
    "        mapping=[chr(i) for i in range(chars)], num_oov_buckets=0)\n",
    "    indices = table.lookup(split_caption.values)\n",
    "    pad_inds = tf.pad(indices[:pad_length], \n",
    "                      [[0, tf.maximum(0, pad_length-tf.shape(indices)[0])]])\n",
    "    pad_inds.set_shape((pad_length,))\n",
    "    #return pad_inds\n",
    "    embeddings = tf.eye(chars)\n",
    "    code = tf.nn.embedding_lookup(embeddings, pad_inds)\n",
    "    code.set_shape((pad_length, chars))\n",
    "    return code\n",
    "\n",
    "def read_data(record_file='/home/paperspace/data/ms_coco/train.tfrecord'):\n",
    "    ''''''\n",
    "    reader = tf.TFRecordReader()\n",
    "    _, serialized_example = reader.read(\n",
    "        tf.train.string_input_producer([record_file]))\n",
    "    feature = {'image': tf.FixedLenFeature([], tf.string),\n",
    "               'caption': tf.FixedLenFeature([], tf.string),\n",
    "               'class': tf.FixedLenFeature([], tf.int64)}\n",
    "    features = tf.parse_single_example(serialized_example, features=feature)\n",
    "    img, caption, class_ = features['image'], features['caption'], features['class']\n",
    "    \n",
    "    decoded_img = rescale_img(tf.image.decode_jpeg(img))\n",
    "    onehot_caption = string_to_onehots(caption)\n",
    "    return decoded_img, onehot_caption, class_"
   ]
  },
  {
   "cell_type": "code",
   "execution_count": null,
   "metadata": {
    "scrolled": true
   },
   "outputs": [],
   "source": [
    "batch_size = 256\n",
    "capacity = 8\n",
    "n_threads = 8\n",
    "\n",
    "backend.set_learning_phase(True)\n",
    "example = read_data()\n",
    "example[0].set_shape((64, 64, 3))\n",
    "#example[1].set_shape((128,))\n",
    "img, c, class_ = tf.train.shuffle_batch_join(\n",
    "    [example]*n_threads, batch_size=batch_size, \n",
    "    capacity=batch_size*capacity, min_after_dequeue=0)\n",
    "\n",
    "m = TextGen()\n",
    "c_hat = m.forward_pass(img)\n",
    "#L = tf.nn.cross_entropy_with_logits(labels=c, logits=c_hat)\n",
    "L = tf.reduce_mean(keras.losses.categorical_crossentropy(c, c_hat))\n",
    "#L = tf.reduce_mean((c-c_hat)**2)\n",
    "lstm_opt = tf.train.AdamOptimizer(1e-3)\\\n",
    "             .minimize(L, var_list=m.lstm.trainable_weights)\n",
    "#cnn_opt = tf.train.AdamOptimizer(1e-5, beta1=0.8)\\\n",
    "#             .minimize(L, var_list=m.phi.trainable_weights)\n",
    "    \n",
    "with tf.Session() as sess:\n",
    "    sess.run([tf.global_variables_initializer(), tf.tables_initializer()])\n",
    "    coord = tf.train.Coordinator()\n",
    "    tf.train.start_queue_runners(sess=sess, coord=coord)\n",
    "    loss = []\n",
    "    m.phi.load_weights('/home/paperspace/.keras/models/mobilenet_1_0_224_tf_no_top.h5')\n",
    "    for n in tqdm.trange(1000000, disable=False):\n",
    "        \n",
    "        #c_eval, c_hat_eval = sess.run([c, c_hat])\n",
    "        #break\n",
    "        \n",
    "        _, l = sess.run([lstm_opt, L])\n",
    "        if n > 0 and n % 100 == 0:\n",
    "            loss.append(l)\n",
    "            c_eval, c_hat_eval = sess.run([c, c_hat])"
   ]
  },
  {
   "cell_type": "code",
   "execution_count": null,
   "metadata": {},
   "outputs": [],
   "source": [
    "plot(loss)"
   ]
  },
  {
   "cell_type": "code",
   "execution_count": null,
   "metadata": {},
   "outputs": [],
   "source": [
    "imshow(c_hat_eval[10])"
   ]
  },
  {
   "cell_type": "code",
   "execution_count": null,
   "metadata": {
    "collapsed": true
   },
   "outputs": [],
   "source": []
  }
 ],
 "metadata": {
  "kernelspec": {
   "display_name": "Python 2",
   "language": "python",
   "name": "python2"
  },
  "language_info": {
   "codemirror_mode": {
    "name": "ipython",
    "version": 2
   },
   "file_extension": ".py",
   "mimetype": "text/x-python",
   "name": "python",
   "nbconvert_exporter": "python",
   "pygments_lexer": "ipython2",
   "version": "2.7.6"
  }
 },
 "nbformat": 4,
 "nbformat_minor": 2
}
