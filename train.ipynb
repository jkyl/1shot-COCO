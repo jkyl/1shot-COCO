{
 "cells": [
  {
   "cell_type": "code",
   "execution_count": 2,
   "metadata": {},
   "outputs": [
    {
     "name": "stdout",
     "output_type": "stream",
     "text": [
      "Populating the interactive namespace from numpy and matplotlib\n"
     ]
    }
   ],
   "source": [
    "%pylab inline\n",
    "from textgen import *\n",
    "m = TextGen(\n",
    "    img_size=299, \n",
    "    code_dim=512, \n",
    "    rnn_type='LSTM', \n",
    "    cnn_type='InceptionV3',\n",
    "    pooling='avg',\n",
    ")"
   ]
  },
  {
   "cell_type": "code",
   "execution_count": null,
   "metadata": {},
   "outputs": [
    {
     "name": "stdout",
     "output_type": "stream",
     "text": [
      "creating batch reader\n",
      "creating staging area\n",
      "creating optimizer\n",
      "creating summary\n",
      "starting threads\n",
      "initializing variables\n",
      "loading cnn weights from pretrained/inception_v3_weights.h5\n",
      "finalizing graph\n",
      "epoch: 1\n"
     ]
    },
    {
     "name": "stderr",
     "output_type": "stream",
     "text": [
      "100%|██████████| 10000/10000 [27:58<00:00,  6.24it/s] \n",
      "  0%|          | 0/10000 [00:00<?, ?it/s]"
     ]
    },
    {
     "name": "stdout",
     "output_type": "stream",
     "text": [
      "epoch: 2\n"
     ]
    },
    {
     "name": "stderr",
     "output_type": "stream",
     "text": [
      " 37%|███▋      | 3674/10000 [10:09<16:10,  6.52it/s] "
     ]
    }
   ],
   "source": [
    "m.train(\n",
    "    '/home/paperspace/data/ms_coco/SOS_preproc_vocab-9413_threshold-5_length-20/train_2shot_BASE.tfrecord',\n",
    "    '/home/paperspace/data/ms_coco/SOS_preproc_vocab-9413_threshold-5_length-20/val_2shot.tfrecord',\n",
    "    '/home/paperspace/data/ms_coco/SOS_preproc_vocab-9413_threshold-5_length-20/val_2shot_BASE.tfrecord',\n",
    "    '/home/paperspace/data/ms_coco/SOS_preproc_vocab-9413_threshold-5_length-20/val_2shot_NOVEL.tfrecord',\n",
    "    '/home/paperspace/training/2shot/lr4e-4_decay25k_bs16_reg1e-4_clip50',\n",
    "    batch_size=16,\n",
    "    optimizer='adam',\n",
    "    lr_init=4e-4, \n",
    "    decay_every=25000,\n",
    "    clip_gradients=50.0,\n",
    "    lambda_x=1,\n",
    "    lambda_r=1e-4,\n",
    "    lambda_g=0,\n",
    "    lambda_f=0,\n",
    "    cnn_trainable=False,\n",
    "    random_captions=True,\n",
    "    n_read_threads=5,\n",
    "    n_stage_threads=5,\n",
    "    capacity=32,\n",
    "    epoch_size=10000,\n",
    "    save_every=inf,\n",
    "    validate_every=100,\n",
    "    ckpt=None,\n",
    "    cnn_ckpt='pretrained/inception_v3_weights.h5',\n",
    "    inds_to_words_json='/home/paperspace/data/ms_coco/SOS_preproc_vocab-9413_threshold-5_length-20/inds_to_words.json'\n",
    ")"
   ]
  },
  {
   "cell_type": "code",
   "execution_count": 1,
   "metadata": {},
   "outputs": [],
   "source": [
    "rm -r /home/paperspace/training/2shot/lr4e-4_decay25k_bs64_reg1e-4_noclip/"
   ]
  },
  {
   "cell_type": "code",
   "execution_count": null,
   "metadata": {
    "collapsed": true
   },
   "outputs": [],
   "source": []
  }
 ],
 "metadata": {
  "kernelspec": {
   "display_name": "Python 2",
   "language": "python",
   "name": "python2"
  },
  "language_info": {
   "codemirror_mode": {
    "name": "ipython",
    "version": 2
   },
   "file_extension": ".py",
   "mimetype": "text/x-python",
   "name": "python",
   "nbconvert_exporter": "python",
   "pygments_lexer": "ipython2",
   "version": "2.7.6"
  }
 },
 "nbformat": 4,
 "nbformat_minor": 2
}
